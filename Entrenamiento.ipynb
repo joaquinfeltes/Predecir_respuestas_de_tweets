{
  "cells": [
    {
      "cell_type": "markdown",
      "metadata": {
        "id": "f4RQ29uvtrwx"
      },
      "source": [
        "#Setup "
      ]
    },
    {
      "cell_type": "markdown",
      "metadata": {
        "id": "MeUnd3NO04Hd"
      },
      "source": [
        "Descargamos es_core_news_md de spacy para tener un vocabulario en español para la etapa de embeddings"
      ]
    },
    {
      "cell_type": "code",
      "execution_count": null,
      "metadata": {
        "colab": {
          "base_uri": "https://localhost:8080/"
        },
        "id": "rU6fQM3TExQg",
        "outputId": "afd15fb0-f951-4415-d89f-4487d632ed01"
      },
      "outputs": [
        {
          "name": "stdout",
          "output_type": "stream",
          "text": [
            "Collecting es_core_news_md==2.2.5\n",
            "  Downloading https://github.com/explosion/spacy-models/releases/download/es_core_news_md-2.2.5/es_core_news_md-2.2.5.tar.gz (78.4 MB)\n",
            "\u001b[K     |████████████████████████████████| 78.4 MB 1.3 MB/s \n",
            "\u001b[?25hRequirement already satisfied: spacy>=2.2.2 in /usr/local/lib/python3.7/dist-packages (from es_core_news_md==2.2.5) (2.2.4)\n",
            "Requirement already satisfied: tqdm<5.0.0,>=4.38.0 in /usr/local/lib/python3.7/dist-packages (from spacy>=2.2.2->es_core_news_md==2.2.5) (4.62.3)\n",
            "Requirement already satisfied: setuptools in /usr/local/lib/python3.7/dist-packages (from spacy>=2.2.2->es_core_news_md==2.2.5) (57.4.0)\n",
            "Requirement already satisfied: plac<1.2.0,>=0.9.6 in /usr/local/lib/python3.7/dist-packages (from spacy>=2.2.2->es_core_news_md==2.2.5) (1.1.3)\n",
            "Requirement already satisfied: numpy>=1.15.0 in /usr/local/lib/python3.7/dist-packages (from spacy>=2.2.2->es_core_news_md==2.2.5) (1.19.5)\n",
            "Requirement already satisfied: blis<0.5.0,>=0.4.0 in /usr/local/lib/python3.7/dist-packages (from spacy>=2.2.2->es_core_news_md==2.2.5) (0.4.1)\n",
            "Requirement already satisfied: preshed<3.1.0,>=3.0.2 in /usr/local/lib/python3.7/dist-packages (from spacy>=2.2.2->es_core_news_md==2.2.5) (3.0.6)\n",
            "Requirement already satisfied: thinc==7.4.0 in /usr/local/lib/python3.7/dist-packages (from spacy>=2.2.2->es_core_news_md==2.2.5) (7.4.0)\n",
            "Requirement already satisfied: cymem<2.1.0,>=2.0.2 in /usr/local/lib/python3.7/dist-packages (from spacy>=2.2.2->es_core_news_md==2.2.5) (2.0.6)\n",
            "Requirement already satisfied: wasabi<1.1.0,>=0.4.0 in /usr/local/lib/python3.7/dist-packages (from spacy>=2.2.2->es_core_news_md==2.2.5) (0.8.2)\n",
            "Requirement already satisfied: catalogue<1.1.0,>=0.0.7 in /usr/local/lib/python3.7/dist-packages (from spacy>=2.2.2->es_core_news_md==2.2.5) (1.0.0)\n",
            "Requirement already satisfied: srsly<1.1.0,>=1.0.2 in /usr/local/lib/python3.7/dist-packages (from spacy>=2.2.2->es_core_news_md==2.2.5) (1.0.5)\n",
            "Requirement already satisfied: murmurhash<1.1.0,>=0.28.0 in /usr/local/lib/python3.7/dist-packages (from spacy>=2.2.2->es_core_news_md==2.2.5) (1.0.6)\n",
            "Requirement already satisfied: requests<3.0.0,>=2.13.0 in /usr/local/lib/python3.7/dist-packages (from spacy>=2.2.2->es_core_news_md==2.2.5) (2.23.0)\n",
            "Requirement already satisfied: importlib-metadata>=0.20 in /usr/local/lib/python3.7/dist-packages (from catalogue<1.1.0,>=0.0.7->spacy>=2.2.2->es_core_news_md==2.2.5) (4.8.2)\n",
            "Requirement already satisfied: typing-extensions>=3.6.4 in /usr/local/lib/python3.7/dist-packages (from importlib-metadata>=0.20->catalogue<1.1.0,>=0.0.7->spacy>=2.2.2->es_core_news_md==2.2.5) (3.10.0.2)\n",
            "Requirement already satisfied: zipp>=0.5 in /usr/local/lib/python3.7/dist-packages (from importlib-metadata>=0.20->catalogue<1.1.0,>=0.0.7->spacy>=2.2.2->es_core_news_md==2.2.5) (3.6.0)\n",
            "Requirement already satisfied: idna<3,>=2.5 in /usr/local/lib/python3.7/dist-packages (from requests<3.0.0,>=2.13.0->spacy>=2.2.2->es_core_news_md==2.2.5) (2.10)\n",
            "Requirement already satisfied: chardet<4,>=3.0.2 in /usr/local/lib/python3.7/dist-packages (from requests<3.0.0,>=2.13.0->spacy>=2.2.2->es_core_news_md==2.2.5) (3.0.4)\n",
            "Requirement already satisfied: certifi>=2017.4.17 in /usr/local/lib/python3.7/dist-packages (from requests<3.0.0,>=2.13.0->spacy>=2.2.2->es_core_news_md==2.2.5) (2021.10.8)\n",
            "Requirement already satisfied: urllib3!=1.25.0,!=1.25.1,<1.26,>=1.21.1 in /usr/local/lib/python3.7/dist-packages (from requests<3.0.0,>=2.13.0->spacy>=2.2.2->es_core_news_md==2.2.5) (1.24.3)\n",
            "Building wheels for collected packages: es-core-news-md\n",
            "  Building wheel for es-core-news-md (setup.py) ... \u001b[?25l\u001b[?25hdone\n",
            "  Created wheel for es-core-news-md: filename=es_core_news_md-2.2.5-py3-none-any.whl size=79649483 sha256=fda048f7925f139c871975665b0d73820d6d8d5ebe0b2b30a2ff436a77fe1e9c\n",
            "  Stored in directory: /tmp/pip-ephem-wheel-cache-mrhfijdy/wheels/d8/f5/92/ee8a4f74fac67775fbc0314b1c9ae4694f4180437f6fc3dd1c\n",
            "Successfully built es-core-news-md\n",
            "Installing collected packages: es-core-news-md\n",
            "Successfully installed es-core-news-md-2.2.5\n",
            "\u001b[38;5;2m✔ Download and installation successful\u001b[0m\n",
            "You can now load the model via spacy.load('es_core_news_md')\n"
          ]
        }
      ],
      "source": [
        "!python -m spacy download es_core_news_md > a"
      ]
    },
    {
      "cell_type": "markdown",
      "metadata": {
        "id": "BhTZWo4l1GXT"
      },
      "source": [
        "Cargamos es_core_news_md .\n",
        "\n",
        "En colab suele tener un error la siguiente linea. Si aparece un error de es_core_news_md, reiniciar el entorno de ejecucion y correr nuevamente las celdas, evitando correr la la linea: \n",
        "\n",
        "\n",
        "`!python -m spacy download es_core_news_md > a\n",
        "`"
      ]
    },
    {
      "cell_type": "code",
      "execution_count": 2,
      "metadata": {
        "id": "KONkThmlGIpv"
      },
      "outputs": [],
      "source": [
        "import spacy\n",
        "nlp = spacy.load(\"es_core_news_md\")"
      ]
    },
    {
      "cell_type": "code",
      "execution_count": 3,
      "metadata": {
        "id": "tQPqUqpWxNgq"
      },
      "outputs": [],
      "source": [
        "import pandas as pd\n",
        "# Seteamos en False para no mostrar todas las columnas cuando veamos los vectores\n",
        "pd.set_option(\"display.max_columns\", False)"
      ]
    },
    {
      "cell_type": "code",
      "execution_count": 4,
      "metadata": {
        "id": "lV4VohPfqQM9"
      },
      "outputs": [],
      "source": [
        "from statistics import pstdev\n",
        "from random import randint\n",
        "from sklearn import metrics\n",
        "from sklearn.feature_extraction.text import CountVectorizer\n",
        "import pickle\n",
        "import numpy as np \n",
        "import seaborn as sns\n",
        "import matplotlib.pyplot as plt"
      ]
    },
    {
      "cell_type": "markdown",
      "metadata": {
        "id": "EPSVW7ljKQbV"
      },
      "source": [
        "Conectar con la cuenta de Google Drive, se espera que en una carpeta llamada Mineria se encuentren guardados los dataframes creados en Parseo.ipynb"
      ]
    },
    {
      "cell_type": "code",
      "execution_count": 5,
      "metadata": {
        "colab": {
          "base_uri": "https://localhost:8080/"
        },
        "id": "IH8jWsqqvIlz",
        "outputId": "28c678f1-7b5f-4147-82fc-d56bf04691fb"
      },
      "outputs": [
        {
          "name": "stdout",
          "output_type": "stream",
          "text": [
            "Drive already mounted at /content/drive; to attempt to forcibly remount, call drive.mount(\"/content/drive\", force_remount=True).\n"
          ]
        }
      ],
      "source": [
        "from google.colab import drive\n",
        "drive.mount('/content/drive')\n",
        "drive_path = '/content/drive/MyDrive/Mineria/'"
      ]
    },
    {
      "cell_type": "markdown",
      "metadata": {
        "id": "2qT03GbL2uj5"
      },
      "source": [
        "Cargamos los dataframes creados en Parseo.ipynb"
      ]
    },
    {
      "cell_type": "code",
      "execution_count": 6,
      "metadata": {
        "id": "3uYU1tiPvfmb"
      },
      "outputs": [],
      "source": [
        "training_df = pd.read_csv(drive_path+'training_df.csv', dtype={\"in_reply_to_status_id\":str, \"in_reply_to_user_id\":str, })\n",
        "develop_df = pd.read_csv(drive_path+'develop_df.csv', dtype={\"in_reply_to_status_id\":str, \"in_reply_to_user_id\":str, })\n",
        "test_df = pd.read_csv(drive_path+'test_df.csv', dtype={\"in_reply_to_status_id\":str, \"in_reply_to_user_id\":str, })\n",
        "\n",
        "training_0_df = pd.read_csv(drive_path+'training_0_df.csv', dtype={\"in_reply_to_status_id\":str, \"in_reply_to_user_id\":str, })\n",
        "training_1_df = pd.read_csv(drive_path+'training_1_df.csv', dtype={\"in_reply_to_status_id\":str, \"in_reply_to_user_id\":str, })\n",
        "training_extra_df = pd.read_csv(drive_path+'training_extra_df.csv', dtype={\"in_reply_to_status_id\":str, \"in_reply_to_user_id\":str, })"
      ]
    },
    {
      "cell_type": "markdown",
      "metadata": {
        "id": "1adQ9bVyKtXn"
      },
      "source": [
        "Los tweets tienen un atributo class, el cual es una division que nos sirve para determinar la cantidad de respuestas que tiene"
      ]
    },
    {
      "cell_type": "code",
      "execution_count": 7,
      "metadata": {
        "colab": {
          "base_uri": "https://localhost:8080/",
          "height": 423
        },
        "id": "D31YANmwlh0m",
        "outputId": "7d53daa2-5b26-4497-ca87-56f996548274"
      },
      "outputs": [
        {
          "data": {
            "text/html": [
              "\n",
              "  <div id=\"df-074f3196-9d82-45cc-8187-82c1934225e2\">\n",
              "    <div class=\"colab-df-container\">\n",
              "      <div>\n",
              "<style scoped>\n",
              "    .dataframe tbody tr th:only-of-type {\n",
              "        vertical-align: middle;\n",
              "    }\n",
              "\n",
              "    .dataframe tbody tr th {\n",
              "        vertical-align: top;\n",
              "    }\n",
              "\n",
              "    .dataframe thead th {\n",
              "        text-align: right;\n",
              "    }\n",
              "</style>\n",
              "<table border=\"1\" class=\"dataframe\">\n",
              "  <thead>\n",
              "    <tr style=\"text-align: right;\">\n",
              "      <th></th>\n",
              "      <th>ans</th>\n",
              "      <th>created_at</th>\n",
              "      <th>id_str</th>\n",
              "      <th>full_text</th>\n",
              "      <th>in_reply_to_status_id</th>\n",
              "      <th>in_reply_to_user_id</th>\n",
              "      <th>user_id</th>\n",
              "      <th>class</th>\n",
              "    </tr>\n",
              "  </thead>\n",
              "  <tbody>\n",
              "    <tr>\n",
              "      <th>0</th>\n",
              "      <td>0</td>\n",
              "      <td>Sat Mar 13 03:56:36 +0000 2021</td>\n",
              "      <td>1370584553845366788</td>\n",
              "      <td>Mi mamá en Río Grande, clavó la Sputnik V y le...</td>\n",
              "      <td>1370344483796189184</td>\n",
              "      <td>367933714</td>\n",
              "      <td>34724559</td>\n",
              "      <td>0</td>\n",
              "    </tr>\n",
              "    <tr>\n",
              "      <th>1</th>\n",
              "      <td>1</td>\n",
              "      <td>Fri Mar 05 01:17:47 +0000 2021</td>\n",
              "      <td>1367645483334787073</td>\n",
              "      <td>Que mal que Argentina no este y en su lugar es...</td>\n",
              "      <td>1367604623788429314</td>\n",
              "      <td>252168075</td>\n",
              "      <td>603932718</td>\n",
              "      <td>1</td>\n",
              "    </tr>\n",
              "    <tr>\n",
              "      <th>2</th>\n",
              "      <td>0</td>\n",
              "      <td>Tue Jan 19 13:22:13 +0000 2021</td>\n",
              "      <td>1351520337016578048</td>\n",
              "      <td>Cuando gobiernan Ellos es El Todo Pasa de Gron...</td>\n",
              "      <td>1351519522411458560</td>\n",
              "      <td>252168075</td>\n",
              "      <td>358378950</td>\n",
              "      <td>0</td>\n",
              "    </tr>\n",
              "    <tr>\n",
              "      <th>3</th>\n",
              "      <td>1</td>\n",
              "      <td>Fri Mar 19 18:42:15 +0000 2021</td>\n",
              "      <td>1372981763753005061</td>\n",
              "      <td>Ay..ojalá!!!!</td>\n",
              "      <td>1372967749983596545</td>\n",
              "      <td>747576601819385857</td>\n",
              "      <td>147445752</td>\n",
              "      <td>1</td>\n",
              "    </tr>\n",
              "    <tr>\n",
              "      <th>4</th>\n",
              "      <td>0</td>\n",
              "      <td>Tue Feb 02 19:56:41 +0000 2021</td>\n",
              "      <td>1356693040463826953</td>\n",
              "      <td>Con controlar ezeiza era el 50 % del laburo,si...</td>\n",
              "      <td>1356691940423708673</td>\n",
              "      <td>4843819715</td>\n",
              "      <td>2301867769</td>\n",
              "      <td>0</td>\n",
              "    </tr>\n",
              "    <tr>\n",
              "      <th>...</th>\n",
              "      <td>...</td>\n",
              "      <td>...</td>\n",
              "      <td>...</td>\n",
              "      <td>...</td>\n",
              "      <td>...</td>\n",
              "      <td>...</td>\n",
              "      <td>...</td>\n",
              "      <td>...</td>\n",
              "    </tr>\n",
              "    <tr>\n",
              "      <th>130461</th>\n",
              "      <td>0</td>\n",
              "      <td>Fri Jan 29 23:23:22 +0000 2021</td>\n",
              "      <td>1355295500782735360</td>\n",
              "      <td>La ideologización y la obsecuencia rompen todo</td>\n",
              "      <td>1355295097940803593</td>\n",
              "      <td>252168075</td>\n",
              "      <td>153866271</td>\n",
              "      <td>0</td>\n",
              "    </tr>\n",
              "    <tr>\n",
              "      <th>130462</th>\n",
              "      <td>0</td>\n",
              "      <td>Fri Feb 12 12:05:45 +0000 2021</td>\n",
              "      <td>1360198403662237696</td>\n",
              "      <td>¿Descontaron o estan contadas como muertes x c...</td>\n",
              "      <td>1359667090282713090</td>\n",
              "      <td>73102744</td>\n",
              "      <td>1034564064658313217</td>\n",
              "      <td>0</td>\n",
              "    </tr>\n",
              "    <tr>\n",
              "      <th>130463</th>\n",
              "      <td>3</td>\n",
              "      <td>Wed Jan 20 22:59:59 +0000 2021</td>\n",
              "      <td>1352028124981178370</td>\n",
              "      <td>Hoy comenzó la vacunación con el segundo compo...</td>\n",
              "      <td>NaN</td>\n",
              "      <td>NaN</td>\n",
              "      <td>349923903</td>\n",
              "      <td>3</td>\n",
              "    </tr>\n",
              "    <tr>\n",
              "      <th>130464</th>\n",
              "      <td>0</td>\n",
              "      <td>Thu Jan 14 15:03:57 +0000 2021</td>\n",
              "      <td>1349733999850135554</td>\n",
              "      <td>1. Michael\\n2. Homero se vuelve inteligente y ...</td>\n",
              "      <td>1349513197775155203</td>\n",
              "      <td>593189095</td>\n",
              "      <td>151576418</td>\n",
              "      <td>0</td>\n",
              "    </tr>\n",
              "    <tr>\n",
              "      <th>130465</th>\n",
              "      <td>1</td>\n",
              "      <td>Thu Jan 14 20:48:24 +0000 2021</td>\n",
              "      <td>1349820685326163968</td>\n",
              "      <td>No se aguantan mas en casa, no?</td>\n",
              "      <td>1349773057460740097</td>\n",
              "      <td>1308808943376924673</td>\n",
              "      <td>598035680</td>\n",
              "      <td>1</td>\n",
              "    </tr>\n",
              "  </tbody>\n",
              "</table>\n",
              "<p>130466 rows × 8 columns</p>\n",
              "</div>\n",
              "      <button class=\"colab-df-convert\" onclick=\"convertToInteractive('df-074f3196-9d82-45cc-8187-82c1934225e2')\"\n",
              "              title=\"Convert this dataframe to an interactive table.\"\n",
              "              style=\"display:none;\">\n",
              "        \n",
              "  <svg xmlns=\"http://www.w3.org/2000/svg\" height=\"24px\"viewBox=\"0 0 24 24\"\n",
              "       width=\"24px\">\n",
              "    <path d=\"M0 0h24v24H0V0z\" fill=\"none\"/>\n",
              "    <path d=\"M18.56 5.44l.94 2.06.94-2.06 2.06-.94-2.06-.94-.94-2.06-.94 2.06-2.06.94zm-11 1L8.5 8.5l.94-2.06 2.06-.94-2.06-.94L8.5 2.5l-.94 2.06-2.06.94zm10 10l.94 2.06.94-2.06 2.06-.94-2.06-.94-.94-2.06-.94 2.06-2.06.94z\"/><path d=\"M17.41 7.96l-1.37-1.37c-.4-.4-.92-.59-1.43-.59-.52 0-1.04.2-1.43.59L10.3 9.45l-7.72 7.72c-.78.78-.78 2.05 0 2.83L4 21.41c.39.39.9.59 1.41.59.51 0 1.02-.2 1.41-.59l7.78-7.78 2.81-2.81c.8-.78.8-2.07 0-2.86zM5.41 20L4 18.59l7.72-7.72 1.47 1.35L5.41 20z\"/>\n",
              "  </svg>\n",
              "      </button>\n",
              "      \n",
              "  <style>\n",
              "    .colab-df-container {\n",
              "      display:flex;\n",
              "      flex-wrap:wrap;\n",
              "      gap: 12px;\n",
              "    }\n",
              "\n",
              "    .colab-df-convert {\n",
              "      background-color: #E8F0FE;\n",
              "      border: none;\n",
              "      border-radius: 50%;\n",
              "      cursor: pointer;\n",
              "      display: none;\n",
              "      fill: #1967D2;\n",
              "      height: 32px;\n",
              "      padding: 0 0 0 0;\n",
              "      width: 32px;\n",
              "    }\n",
              "\n",
              "    .colab-df-convert:hover {\n",
              "      background-color: #E2EBFA;\n",
              "      box-shadow: 0px 1px 2px rgba(60, 64, 67, 0.3), 0px 1px 3px 1px rgba(60, 64, 67, 0.15);\n",
              "      fill: #174EA6;\n",
              "    }\n",
              "\n",
              "    [theme=dark] .colab-df-convert {\n",
              "      background-color: #3B4455;\n",
              "      fill: #D2E3FC;\n",
              "    }\n",
              "\n",
              "    [theme=dark] .colab-df-convert:hover {\n",
              "      background-color: #434B5C;\n",
              "      box-shadow: 0px 1px 3px 1px rgba(0, 0, 0, 0.15);\n",
              "      filter: drop-shadow(0px 1px 2px rgba(0, 0, 0, 0.3));\n",
              "      fill: #FFFFFF;\n",
              "    }\n",
              "  </style>\n",
              "\n",
              "      <script>\n",
              "        const buttonEl =\n",
              "          document.querySelector('#df-074f3196-9d82-45cc-8187-82c1934225e2 button.colab-df-convert');\n",
              "        buttonEl.style.display =\n",
              "          google.colab.kernel.accessAllowed ? 'block' : 'none';\n",
              "\n",
              "        async function convertToInteractive(key) {\n",
              "          const element = document.querySelector('#df-074f3196-9d82-45cc-8187-82c1934225e2');\n",
              "          const dataTable =\n",
              "            await google.colab.kernel.invokeFunction('convertToInteractive',\n",
              "                                                     [key], {});\n",
              "          if (!dataTable) return;\n",
              "\n",
              "          const docLinkHtml = 'Like what you see? Visit the ' +\n",
              "            '<a target=\"_blank\" href=https://colab.research.google.com/notebooks/data_table.ipynb>data table notebook</a>'\n",
              "            + ' to learn more about interactive tables.';\n",
              "          element.innerHTML = '';\n",
              "          dataTable['output_type'] = 'display_data';\n",
              "          await google.colab.output.renderOutput(dataTable, element);\n",
              "          const docLink = document.createElement('div');\n",
              "          docLink.innerHTML = docLinkHtml;\n",
              "          element.appendChild(docLink);\n",
              "        }\n",
              "      </script>\n",
              "    </div>\n",
              "  </div>\n",
              "  "
            ],
            "text/plain": [
              "        ans                      created_at  ...              user_id class\n",
              "0         0  Sat Mar 13 03:56:36 +0000 2021  ...             34724559     0\n",
              "1         1  Fri Mar 05 01:17:47 +0000 2021  ...            603932718     1\n",
              "2         0  Tue Jan 19 13:22:13 +0000 2021  ...            358378950     0\n",
              "3         1  Fri Mar 19 18:42:15 +0000 2021  ...            147445752     1\n",
              "4         0  Tue Feb 02 19:56:41 +0000 2021  ...           2301867769     0\n",
              "...     ...                             ...  ...                  ...   ...\n",
              "130461    0  Fri Jan 29 23:23:22 +0000 2021  ...            153866271     0\n",
              "130462    0  Fri Feb 12 12:05:45 +0000 2021  ...  1034564064658313217     0\n",
              "130463    3  Wed Jan 20 22:59:59 +0000 2021  ...            349923903     3\n",
              "130464    0  Thu Jan 14 15:03:57 +0000 2021  ...            151576418     0\n",
              "130465    1  Thu Jan 14 20:48:24 +0000 2021  ...            598035680     1\n",
              "\n",
              "[130466 rows x 8 columns]"
            ]
          },
          "execution_count": 7,
          "metadata": {},
          "output_type": "execute_result"
        }
      ],
      "source": [
        "training_df"
      ]
    },
    {
      "cell_type": "markdown",
      "metadata": {
        "id": "opqbasC9341h"
      },
      "source": [
        "# Funciones auxiliares (Y no tan auxiliares)"
      ]
    },
    {
      "cell_type": "code",
      "execution_count": 8,
      "metadata": {
        "id": "fLplsYq0pPEv"
      },
      "outputs": [],
      "source": [
        "#devuelve un arreglo del texto como string\n",
        "# https://stackoverflow.com/questions/39303912/tfidfvectorizer-in-scikit-learn-valueerror-np-nan-is-an-invalid-document\n",
        "\n",
        "def get_text_array(df):\n",
        "  return df['full_text'].values.astype('str')\n",
        "\n",
        "def get_class_array(df):\n",
        "  return df['class'].to_numpy()"
      ]
    },
    {
      "cell_type": "markdown",
      "metadata": {
        "id": "xXVOhfOzLV_O"
      },
      "source": [
        "Conseguimos el vocabulario para los vectores de Coountvectorizer, usando todos los tweets"
      ]
    },
    {
      "cell_type": "code",
      "execution_count": 9,
      "metadata": {
        "id": "JMd8OgURXDb_"
      },
      "outputs": [],
      "source": [
        "def get_training_vocab():\n",
        "  training_df = pd.read_csv(drive_path+\"training_df.csv\", dtype={\"in_reply_to_status_id\":str, \"in_reply_to_user_id\":str, })\n",
        "  training_array = get_text_array(training_df)\n",
        "  cv_tr = CountVectorizer(lowercase=True, min_df=2, max_features=15000)\n",
        "  cv_t = cv_tr.fit_transform(training_array)\n",
        "  return cv_tr.vocabulary_\n",
        "\n",
        "countvec_vocabulary = get_training_vocab()"
      ]
    },
    {
      "cell_type": "markdown",
      "metadata": {
        "id": "M0s9DVNaLi8F"
      },
      "source": [
        "Conseguir los vectores de palabras para countvectorizer"
      ]
    },
    {
      "cell_type": "code",
      "execution_count": 10,
      "metadata": {
        "id": "Qnbf-uxr8YaR"
      },
      "outputs": [],
      "source": [
        "# /usr/local/lib/python3.7/dist-packages/sklearn/utils/deprecation.py:87: FutureWarning: Function get_feature_names is deprecated; get_feature_names is deprecated in 1.0 and will be removed in 1.2. Please use get_feature_names_out instead.\n",
        "#   warnings.warn(msg, category=FutureWarning)\n",
        "\n",
        "def get_vectors_dataframe(training_array,  vocab=countvec_vocabulary):\n",
        "  coun_vect = CountVectorizer(vocabulary = vocab)\n",
        "  count_matrix = coun_vect.fit_transform(training_array)\n",
        "  count_array = count_matrix.toarray()\n",
        "  vectors_dataframe = pd.DataFrame(data=count_array,columns = coun_vect.get_feature_names_out()) \n",
        "  return vectors_dataframe"
      ]
    },
    {
      "cell_type": "markdown",
      "metadata": {
        "id": "rxbFmicULsal"
      },
      "source": [
        "Entrenar la regression logistica. \n",
        "\n",
        "Se puede agregar el parametro max_iter, que viene por defecto con 100, para que el entrenamiento tenga un mejor resultado, pero hay que tener en cuenta que eso generaria un aumento del tiempo de ejecucion.\n",
        "\n",
        "Cuando usamos el valor por defecto, muchas veces aparece el warning `ConvergenceWarning`, pero la ejecucion sigue sin problemas."
      ]
    },
    {
      "cell_type": "code",
      "execution_count": 11,
      "metadata": {
        "id": "O18GrCMTkmIc"
      },
      "outputs": [],
      "source": [
        "#https://github.com/mGalarnyk/Python_Tutorials/blob/master/Sklearn/Logistic_Regression/LogisticRegression_toy_digits_Codementor.ipynb\n",
        "#https://towardsdatascience.com/logistic-regression-using-python-sklearn-numpy-mnist-handwriting-recognition-matplotlib-a6b31e2b166a\n",
        "\n",
        "from sklearn.linear_model import LogisticRegression\n",
        "\n",
        "def train_logistic_regression(vectors_training_df, training_classes):\n",
        "  logisticRegr = LogisticRegression()#max_iter=200\n",
        "  logisticRegr.fit(vectors_training_df, training_classes)\n",
        "  return logisticRegr"
      ]
    },
    {
      "cell_type": "markdown",
      "metadata": {
        "id": "lzQ8_3ws7kQs"
      },
      "source": [
        "# Matriz de confusion\n",
        "\n",
        "\n"
      ]
    },
    {
      "cell_type": "markdown",
      "metadata": {
        "id": "TysxJ9ROMJzE"
      },
      "source": [
        "Visualizar que label toco y cual deberia haber tocado."
      ]
    },
    {
      "cell_type": "code",
      "execution_count": 12,
      "metadata": {
        "id": "13LuqDqDdjI3"
      },
      "outputs": [],
      "source": [
        "def plt_confusion_matrix(Logistic_Regression, vectors_develop, develop_tags, score, title, classes=[\"0\",\"1\",\"2\",\"+3\"]):\n",
        "\n",
        "  predictions_tags = Logistic_Regression.predict(vectors_develop) \n",
        "\n",
        "  confusion_matrix = metrics.confusion_matrix(develop_tags, predictions_tags)\n",
        "  plt.figure(figsize=(12,12))\n",
        "  sns.heatmap(confusion_matrix, annot=True, fmt=\"d\", linewidths=.5, square = True, robust=True, cmap = 'YlGnBu', cbar=False);\n",
        "  plt.ylabel('Actual label');\n",
        "  plt.xlabel('Predicted label');\n",
        "  plt.yticks(plt.yticks()[0], labels=classes, rotation=0)\n",
        "  plt.xticks(plt.xticks()[0], labels=classes)\n",
        "  plt_title = f'{title} - Accuracy Score: {round(score,3)}'\n",
        "  plt.title(plt_title, size = 15);\n",
        "  plt.savefig(drive_path+f'Confusion_matrix/{title}.png')\n",
        "  plt.show();"
      ]
    },
    {
      "cell_type": "markdown",
      "metadata": {
        "id": "SIo-S6ttSlVe"
      },
      "source": [
        "# Primera aproximacion con Bag of Words"
      ]
    },
    {
      "cell_type": "code",
      "execution_count": 13,
      "metadata": {
        "id": "Hcp92-P_D55T"
      },
      "outputs": [],
      "source": [
        "# preparar el vector de develop para testear los resultados\n",
        "develop_class = get_class_array(develop_df)\n",
        "develop_array = get_text_array(develop_df)\n",
        "vectors_develop_df = get_vectors_dataframe(develop_array)"
      ]
    },
    {
      "cell_type": "markdown",
      "metadata": {
        "id": "rvGmBFNdNqc9"
      },
      "source": [
        "Asi se ve un vector de BOW"
      ]
    },
    {
      "cell_type": "code",
      "execution_count": 14,
      "metadata": {
        "colab": {
          "base_uri": "https://localhost:8080/",
          "height": 487
        },
        "id": "eigPBOW9AAK0",
        "outputId": "11ac44ea-90fc-4d0b-86c6-a6bf1e4af0f0"
      },
      "outputs": [
        {
          "data": {
            "text/html": [
              "\n",
              "  <div id=\"df-7baa9c98-39b6-42ee-a306-2ffe9275de72\">\n",
              "    <div class=\"colab-df-container\">\n",
              "      <div>\n",
              "<style scoped>\n",
              "    .dataframe tbody tr th:only-of-type {\n",
              "        vertical-align: middle;\n",
              "    }\n",
              "\n",
              "    .dataframe tbody tr th {\n",
              "        vertical-align: top;\n",
              "    }\n",
              "\n",
              "    .dataframe thead th {\n",
              "        text-align: right;\n",
              "    }\n",
              "</style>\n",
              "<table border=\"1\" class=\"dataframe\">\n",
              "  <thead>\n",
              "    <tr style=\"text-align: right;\">\n",
              "      <th></th>\n",
              "      <th>00</th>\n",
              "      <th>000</th>\n",
              "      <th>01</th>\n",
              "      <th>02</th>\n",
              "      <th>03</th>\n",
              "      <th>04</th>\n",
              "      <th>05</th>\n",
              "      <th>050</th>\n",
              "      <th>06</th>\n",
              "      <th>07</th>\n",
              "      <th>08</th>\n",
              "      <th>0800</th>\n",
              "      <th>09</th>\n",
              "      <th>10</th>\n",
              "      <th>100</th>\n",
              "      <th>1000</th>\n",
              "      <th>10000</th>\n",
              "      <th>100000</th>\n",
              "      <th>100mil</th>\n",
              "      <th>101</th>\n",
              "      <th>102</th>\n",
              "      <th>104</th>\n",
              "      <th>105</th>\n",
              "      <th>107</th>\n",
              "      <th>10m</th>\n",
              "      <th>10mil</th>\n",
              "      <th>10mo</th>\n",
              "      <th>11</th>\n",
              "      <th>110</th>\n",
              "      <th>112</th>\n",
              "      <th>113</th>\n",
              "      <th>116</th>\n",
              "      <th>12</th>\n",
              "      <th>120</th>\n",
              "      <th>1200</th>\n",
              "      <th>12000</th>\n",
              "      <th>122</th>\n",
              "      <th>125</th>\n",
              "      <th>13</th>\n",
              "      <th>130</th>\n",
              "      <th>...</th>\n",
              "      <th>ésta</th>\n",
              "      <th>éstas</th>\n",
              "      <th>éste</th>\n",
              "      <th>ésto</th>\n",
              "      <th>éstos</th>\n",
              "      <th>ética</th>\n",
              "      <th>éticamente</th>\n",
              "      <th>ético</th>\n",
              "      <th>éticos</th>\n",
              "      <th>éxito</th>\n",
              "      <th>éxitos</th>\n",
              "      <th>íbamos</th>\n",
              "      <th>ídem</th>\n",
              "      <th>ídolo</th>\n",
              "      <th>ídolos</th>\n",
              "      <th>índice</th>\n",
              "      <th>índices</th>\n",
              "      <th>ña</th>\n",
              "      <th>ñañaña</th>\n",
              "      <th>ñañañaña</th>\n",
              "      <th>ñoqui</th>\n",
              "      <th>ñoquis</th>\n",
              "      <th>ñora</th>\n",
              "      <th>óptimo</th>\n",
              "      <th>órdenes</th>\n",
              "      <th>órgano</th>\n",
              "      <th>ósea</th>\n",
              "      <th>última</th>\n",
              "      <th>últimamente</th>\n",
              "      <th>últimas</th>\n",
              "      <th>último</th>\n",
              "      <th>últimos</th>\n",
              "      <th>única</th>\n",
              "      <th>únicamente</th>\n",
              "      <th>únicas</th>\n",
              "      <th>único</th>\n",
              "      <th>únicos</th>\n",
              "      <th>útero</th>\n",
              "      <th>útil</th>\n",
              "      <th>útiles</th>\n",
              "    </tr>\n",
              "  </thead>\n",
              "  <tbody>\n",
              "    <tr>\n",
              "      <th>0</th>\n",
              "      <td>0</td>\n",
              "      <td>0</td>\n",
              "      <td>0</td>\n",
              "      <td>0</td>\n",
              "      <td>0</td>\n",
              "      <td>0</td>\n",
              "      <td>0</td>\n",
              "      <td>0</td>\n",
              "      <td>0</td>\n",
              "      <td>0</td>\n",
              "      <td>0</td>\n",
              "      <td>0</td>\n",
              "      <td>0</td>\n",
              "      <td>0</td>\n",
              "      <td>0</td>\n",
              "      <td>0</td>\n",
              "      <td>0</td>\n",
              "      <td>0</td>\n",
              "      <td>0</td>\n",
              "      <td>0</td>\n",
              "      <td>0</td>\n",
              "      <td>0</td>\n",
              "      <td>0</td>\n",
              "      <td>0</td>\n",
              "      <td>0</td>\n",
              "      <td>0</td>\n",
              "      <td>0</td>\n",
              "      <td>0</td>\n",
              "      <td>0</td>\n",
              "      <td>0</td>\n",
              "      <td>0</td>\n",
              "      <td>0</td>\n",
              "      <td>0</td>\n",
              "      <td>0</td>\n",
              "      <td>0</td>\n",
              "      <td>0</td>\n",
              "      <td>0</td>\n",
              "      <td>0</td>\n",
              "      <td>0</td>\n",
              "      <td>0</td>\n",
              "      <td>...</td>\n",
              "      <td>0</td>\n",
              "      <td>0</td>\n",
              "      <td>0</td>\n",
              "      <td>0</td>\n",
              "      <td>0</td>\n",
              "      <td>0</td>\n",
              "      <td>0</td>\n",
              "      <td>0</td>\n",
              "      <td>0</td>\n",
              "      <td>0</td>\n",
              "      <td>0</td>\n",
              "      <td>0</td>\n",
              "      <td>0</td>\n",
              "      <td>0</td>\n",
              "      <td>0</td>\n",
              "      <td>0</td>\n",
              "      <td>0</td>\n",
              "      <td>0</td>\n",
              "      <td>0</td>\n",
              "      <td>0</td>\n",
              "      <td>0</td>\n",
              "      <td>0</td>\n",
              "      <td>0</td>\n",
              "      <td>0</td>\n",
              "      <td>0</td>\n",
              "      <td>0</td>\n",
              "      <td>0</td>\n",
              "      <td>0</td>\n",
              "      <td>0</td>\n",
              "      <td>0</td>\n",
              "      <td>0</td>\n",
              "      <td>0</td>\n",
              "      <td>0</td>\n",
              "      <td>0</td>\n",
              "      <td>0</td>\n",
              "      <td>0</td>\n",
              "      <td>0</td>\n",
              "      <td>0</td>\n",
              "      <td>0</td>\n",
              "      <td>0</td>\n",
              "    </tr>\n",
              "    <tr>\n",
              "      <th>1</th>\n",
              "      <td>0</td>\n",
              "      <td>0</td>\n",
              "      <td>0</td>\n",
              "      <td>0</td>\n",
              "      <td>0</td>\n",
              "      <td>0</td>\n",
              "      <td>0</td>\n",
              "      <td>0</td>\n",
              "      <td>0</td>\n",
              "      <td>0</td>\n",
              "      <td>0</td>\n",
              "      <td>0</td>\n",
              "      <td>0</td>\n",
              "      <td>0</td>\n",
              "      <td>0</td>\n",
              "      <td>0</td>\n",
              "      <td>0</td>\n",
              "      <td>0</td>\n",
              "      <td>0</td>\n",
              "      <td>0</td>\n",
              "      <td>0</td>\n",
              "      <td>0</td>\n",
              "      <td>0</td>\n",
              "      <td>0</td>\n",
              "      <td>0</td>\n",
              "      <td>0</td>\n",
              "      <td>0</td>\n",
              "      <td>0</td>\n",
              "      <td>0</td>\n",
              "      <td>0</td>\n",
              "      <td>0</td>\n",
              "      <td>0</td>\n",
              "      <td>0</td>\n",
              "      <td>0</td>\n",
              "      <td>0</td>\n",
              "      <td>0</td>\n",
              "      <td>0</td>\n",
              "      <td>0</td>\n",
              "      <td>0</td>\n",
              "      <td>0</td>\n",
              "      <td>...</td>\n",
              "      <td>0</td>\n",
              "      <td>0</td>\n",
              "      <td>0</td>\n",
              "      <td>0</td>\n",
              "      <td>0</td>\n",
              "      <td>0</td>\n",
              "      <td>0</td>\n",
              "      <td>0</td>\n",
              "      <td>0</td>\n",
              "      <td>0</td>\n",
              "      <td>0</td>\n",
              "      <td>0</td>\n",
              "      <td>0</td>\n",
              "      <td>0</td>\n",
              "      <td>0</td>\n",
              "      <td>0</td>\n",
              "      <td>0</td>\n",
              "      <td>0</td>\n",
              "      <td>0</td>\n",
              "      <td>0</td>\n",
              "      <td>0</td>\n",
              "      <td>0</td>\n",
              "      <td>0</td>\n",
              "      <td>0</td>\n",
              "      <td>0</td>\n",
              "      <td>0</td>\n",
              "      <td>0</td>\n",
              "      <td>0</td>\n",
              "      <td>0</td>\n",
              "      <td>0</td>\n",
              "      <td>0</td>\n",
              "      <td>0</td>\n",
              "      <td>0</td>\n",
              "      <td>0</td>\n",
              "      <td>0</td>\n",
              "      <td>0</td>\n",
              "      <td>0</td>\n",
              "      <td>0</td>\n",
              "      <td>0</td>\n",
              "      <td>0</td>\n",
              "    </tr>\n",
              "    <tr>\n",
              "      <th>2</th>\n",
              "      <td>0</td>\n",
              "      <td>0</td>\n",
              "      <td>0</td>\n",
              "      <td>0</td>\n",
              "      <td>0</td>\n",
              "      <td>0</td>\n",
              "      <td>0</td>\n",
              "      <td>0</td>\n",
              "      <td>0</td>\n",
              "      <td>0</td>\n",
              "      <td>0</td>\n",
              "      <td>0</td>\n",
              "      <td>0</td>\n",
              "      <td>0</td>\n",
              "      <td>0</td>\n",
              "      <td>0</td>\n",
              "      <td>0</td>\n",
              "      <td>0</td>\n",
              "      <td>0</td>\n",
              "      <td>0</td>\n",
              "      <td>0</td>\n",
              "      <td>0</td>\n",
              "      <td>0</td>\n",
              "      <td>0</td>\n",
              "      <td>0</td>\n",
              "      <td>0</td>\n",
              "      <td>0</td>\n",
              "      <td>0</td>\n",
              "      <td>0</td>\n",
              "      <td>0</td>\n",
              "      <td>0</td>\n",
              "      <td>0</td>\n",
              "      <td>0</td>\n",
              "      <td>0</td>\n",
              "      <td>0</td>\n",
              "      <td>0</td>\n",
              "      <td>0</td>\n",
              "      <td>0</td>\n",
              "      <td>0</td>\n",
              "      <td>0</td>\n",
              "      <td>...</td>\n",
              "      <td>0</td>\n",
              "      <td>0</td>\n",
              "      <td>0</td>\n",
              "      <td>0</td>\n",
              "      <td>0</td>\n",
              "      <td>0</td>\n",
              "      <td>0</td>\n",
              "      <td>0</td>\n",
              "      <td>0</td>\n",
              "      <td>0</td>\n",
              "      <td>0</td>\n",
              "      <td>0</td>\n",
              "      <td>0</td>\n",
              "      <td>0</td>\n",
              "      <td>0</td>\n",
              "      <td>0</td>\n",
              "      <td>0</td>\n",
              "      <td>0</td>\n",
              "      <td>0</td>\n",
              "      <td>0</td>\n",
              "      <td>0</td>\n",
              "      <td>0</td>\n",
              "      <td>0</td>\n",
              "      <td>0</td>\n",
              "      <td>0</td>\n",
              "      <td>0</td>\n",
              "      <td>0</td>\n",
              "      <td>0</td>\n",
              "      <td>0</td>\n",
              "      <td>0</td>\n",
              "      <td>0</td>\n",
              "      <td>0</td>\n",
              "      <td>0</td>\n",
              "      <td>0</td>\n",
              "      <td>0</td>\n",
              "      <td>0</td>\n",
              "      <td>0</td>\n",
              "      <td>0</td>\n",
              "      <td>0</td>\n",
              "      <td>0</td>\n",
              "    </tr>\n",
              "    <tr>\n",
              "      <th>3</th>\n",
              "      <td>0</td>\n",
              "      <td>0</td>\n",
              "      <td>0</td>\n",
              "      <td>0</td>\n",
              "      <td>0</td>\n",
              "      <td>0</td>\n",
              "      <td>0</td>\n",
              "      <td>0</td>\n",
              "      <td>0</td>\n",
              "      <td>0</td>\n",
              "      <td>0</td>\n",
              "      <td>0</td>\n",
              "      <td>0</td>\n",
              "      <td>0</td>\n",
              "      <td>0</td>\n",
              "      <td>0</td>\n",
              "      <td>0</td>\n",
              "      <td>0</td>\n",
              "      <td>0</td>\n",
              "      <td>0</td>\n",
              "      <td>0</td>\n",
              "      <td>0</td>\n",
              "      <td>0</td>\n",
              "      <td>0</td>\n",
              "      <td>0</td>\n",
              "      <td>0</td>\n",
              "      <td>0</td>\n",
              "      <td>0</td>\n",
              "      <td>0</td>\n",
              "      <td>0</td>\n",
              "      <td>0</td>\n",
              "      <td>0</td>\n",
              "      <td>0</td>\n",
              "      <td>0</td>\n",
              "      <td>0</td>\n",
              "      <td>0</td>\n",
              "      <td>0</td>\n",
              "      <td>0</td>\n",
              "      <td>0</td>\n",
              "      <td>0</td>\n",
              "      <td>...</td>\n",
              "      <td>0</td>\n",
              "      <td>0</td>\n",
              "      <td>0</td>\n",
              "      <td>0</td>\n",
              "      <td>0</td>\n",
              "      <td>0</td>\n",
              "      <td>0</td>\n",
              "      <td>0</td>\n",
              "      <td>0</td>\n",
              "      <td>0</td>\n",
              "      <td>0</td>\n",
              "      <td>0</td>\n",
              "      <td>0</td>\n",
              "      <td>0</td>\n",
              "      <td>0</td>\n",
              "      <td>0</td>\n",
              "      <td>0</td>\n",
              "      <td>0</td>\n",
              "      <td>0</td>\n",
              "      <td>0</td>\n",
              "      <td>0</td>\n",
              "      <td>0</td>\n",
              "      <td>0</td>\n",
              "      <td>0</td>\n",
              "      <td>0</td>\n",
              "      <td>0</td>\n",
              "      <td>0</td>\n",
              "      <td>0</td>\n",
              "      <td>0</td>\n",
              "      <td>0</td>\n",
              "      <td>0</td>\n",
              "      <td>0</td>\n",
              "      <td>0</td>\n",
              "      <td>0</td>\n",
              "      <td>0</td>\n",
              "      <td>0</td>\n",
              "      <td>0</td>\n",
              "      <td>0</td>\n",
              "      <td>0</td>\n",
              "      <td>0</td>\n",
              "    </tr>\n",
              "    <tr>\n",
              "      <th>4</th>\n",
              "      <td>0</td>\n",
              "      <td>0</td>\n",
              "      <td>0</td>\n",
              "      <td>0</td>\n",
              "      <td>0</td>\n",
              "      <td>0</td>\n",
              "      <td>0</td>\n",
              "      <td>0</td>\n",
              "      <td>0</td>\n",
              "      <td>0</td>\n",
              "      <td>0</td>\n",
              "      <td>0</td>\n",
              "      <td>0</td>\n",
              "      <td>0</td>\n",
              "      <td>0</td>\n",
              "      <td>0</td>\n",
              "      <td>0</td>\n",
              "      <td>0</td>\n",
              "      <td>0</td>\n",
              "      <td>0</td>\n",
              "      <td>0</td>\n",
              "      <td>0</td>\n",
              "      <td>0</td>\n",
              "      <td>0</td>\n",
              "      <td>0</td>\n",
              "      <td>0</td>\n",
              "      <td>0</td>\n",
              "      <td>0</td>\n",
              "      <td>0</td>\n",
              "      <td>0</td>\n",
              "      <td>0</td>\n",
              "      <td>0</td>\n",
              "      <td>0</td>\n",
              "      <td>0</td>\n",
              "      <td>0</td>\n",
              "      <td>0</td>\n",
              "      <td>0</td>\n",
              "      <td>0</td>\n",
              "      <td>0</td>\n",
              "      <td>0</td>\n",
              "      <td>...</td>\n",
              "      <td>0</td>\n",
              "      <td>0</td>\n",
              "      <td>0</td>\n",
              "      <td>0</td>\n",
              "      <td>0</td>\n",
              "      <td>0</td>\n",
              "      <td>0</td>\n",
              "      <td>0</td>\n",
              "      <td>0</td>\n",
              "      <td>0</td>\n",
              "      <td>0</td>\n",
              "      <td>0</td>\n",
              "      <td>0</td>\n",
              "      <td>0</td>\n",
              "      <td>0</td>\n",
              "      <td>0</td>\n",
              "      <td>0</td>\n",
              "      <td>0</td>\n",
              "      <td>0</td>\n",
              "      <td>0</td>\n",
              "      <td>0</td>\n",
              "      <td>0</td>\n",
              "      <td>0</td>\n",
              "      <td>0</td>\n",
              "      <td>0</td>\n",
              "      <td>0</td>\n",
              "      <td>0</td>\n",
              "      <td>0</td>\n",
              "      <td>0</td>\n",
              "      <td>0</td>\n",
              "      <td>0</td>\n",
              "      <td>0</td>\n",
              "      <td>0</td>\n",
              "      <td>0</td>\n",
              "      <td>0</td>\n",
              "      <td>0</td>\n",
              "      <td>0</td>\n",
              "      <td>0</td>\n",
              "      <td>0</td>\n",
              "      <td>0</td>\n",
              "    </tr>\n",
              "    <tr>\n",
              "      <th>...</th>\n",
              "      <td>...</td>\n",
              "      <td>...</td>\n",
              "      <td>...</td>\n",
              "      <td>...</td>\n",
              "      <td>...</td>\n",
              "      <td>...</td>\n",
              "      <td>...</td>\n",
              "      <td>...</td>\n",
              "      <td>...</td>\n",
              "      <td>...</td>\n",
              "      <td>...</td>\n",
              "      <td>...</td>\n",
              "      <td>...</td>\n",
              "      <td>...</td>\n",
              "      <td>...</td>\n",
              "      <td>...</td>\n",
              "      <td>...</td>\n",
              "      <td>...</td>\n",
              "      <td>...</td>\n",
              "      <td>...</td>\n",
              "      <td>...</td>\n",
              "      <td>...</td>\n",
              "      <td>...</td>\n",
              "      <td>...</td>\n",
              "      <td>...</td>\n",
              "      <td>...</td>\n",
              "      <td>...</td>\n",
              "      <td>...</td>\n",
              "      <td>...</td>\n",
              "      <td>...</td>\n",
              "      <td>...</td>\n",
              "      <td>...</td>\n",
              "      <td>...</td>\n",
              "      <td>...</td>\n",
              "      <td>...</td>\n",
              "      <td>...</td>\n",
              "      <td>...</td>\n",
              "      <td>...</td>\n",
              "      <td>...</td>\n",
              "      <td>...</td>\n",
              "      <td>...</td>\n",
              "      <td>...</td>\n",
              "      <td>...</td>\n",
              "      <td>...</td>\n",
              "      <td>...</td>\n",
              "      <td>...</td>\n",
              "      <td>...</td>\n",
              "      <td>...</td>\n",
              "      <td>...</td>\n",
              "      <td>...</td>\n",
              "      <td>...</td>\n",
              "      <td>...</td>\n",
              "      <td>...</td>\n",
              "      <td>...</td>\n",
              "      <td>...</td>\n",
              "      <td>...</td>\n",
              "      <td>...</td>\n",
              "      <td>...</td>\n",
              "      <td>...</td>\n",
              "      <td>...</td>\n",
              "      <td>...</td>\n",
              "      <td>...</td>\n",
              "      <td>...</td>\n",
              "      <td>...</td>\n",
              "      <td>...</td>\n",
              "      <td>...</td>\n",
              "      <td>...</td>\n",
              "      <td>...</td>\n",
              "      <td>...</td>\n",
              "      <td>...</td>\n",
              "      <td>...</td>\n",
              "      <td>...</td>\n",
              "      <td>...</td>\n",
              "      <td>...</td>\n",
              "      <td>...</td>\n",
              "      <td>...</td>\n",
              "      <td>...</td>\n",
              "      <td>...</td>\n",
              "      <td>...</td>\n",
              "      <td>...</td>\n",
              "      <td>...</td>\n",
              "    </tr>\n",
              "    <tr>\n",
              "      <th>16303</th>\n",
              "      <td>0</td>\n",
              "      <td>0</td>\n",
              "      <td>0</td>\n",
              "      <td>0</td>\n",
              "      <td>0</td>\n",
              "      <td>0</td>\n",
              "      <td>0</td>\n",
              "      <td>0</td>\n",
              "      <td>0</td>\n",
              "      <td>0</td>\n",
              "      <td>0</td>\n",
              "      <td>0</td>\n",
              "      <td>0</td>\n",
              "      <td>0</td>\n",
              "      <td>0</td>\n",
              "      <td>0</td>\n",
              "      <td>0</td>\n",
              "      <td>0</td>\n",
              "      <td>0</td>\n",
              "      <td>0</td>\n",
              "      <td>0</td>\n",
              "      <td>0</td>\n",
              "      <td>0</td>\n",
              "      <td>0</td>\n",
              "      <td>0</td>\n",
              "      <td>0</td>\n",
              "      <td>0</td>\n",
              "      <td>0</td>\n",
              "      <td>0</td>\n",
              "      <td>0</td>\n",
              "      <td>0</td>\n",
              "      <td>0</td>\n",
              "      <td>0</td>\n",
              "      <td>0</td>\n",
              "      <td>0</td>\n",
              "      <td>0</td>\n",
              "      <td>0</td>\n",
              "      <td>0</td>\n",
              "      <td>0</td>\n",
              "      <td>0</td>\n",
              "      <td>...</td>\n",
              "      <td>0</td>\n",
              "      <td>0</td>\n",
              "      <td>0</td>\n",
              "      <td>0</td>\n",
              "      <td>0</td>\n",
              "      <td>0</td>\n",
              "      <td>0</td>\n",
              "      <td>0</td>\n",
              "      <td>0</td>\n",
              "      <td>0</td>\n",
              "      <td>0</td>\n",
              "      <td>0</td>\n",
              "      <td>0</td>\n",
              "      <td>0</td>\n",
              "      <td>0</td>\n",
              "      <td>0</td>\n",
              "      <td>0</td>\n",
              "      <td>0</td>\n",
              "      <td>0</td>\n",
              "      <td>0</td>\n",
              "      <td>0</td>\n",
              "      <td>0</td>\n",
              "      <td>0</td>\n",
              "      <td>0</td>\n",
              "      <td>0</td>\n",
              "      <td>0</td>\n",
              "      <td>0</td>\n",
              "      <td>0</td>\n",
              "      <td>0</td>\n",
              "      <td>0</td>\n",
              "      <td>0</td>\n",
              "      <td>0</td>\n",
              "      <td>0</td>\n",
              "      <td>0</td>\n",
              "      <td>0</td>\n",
              "      <td>0</td>\n",
              "      <td>0</td>\n",
              "      <td>0</td>\n",
              "      <td>0</td>\n",
              "      <td>0</td>\n",
              "    </tr>\n",
              "    <tr>\n",
              "      <th>16304</th>\n",
              "      <td>0</td>\n",
              "      <td>0</td>\n",
              "      <td>0</td>\n",
              "      <td>0</td>\n",
              "      <td>0</td>\n",
              "      <td>0</td>\n",
              "      <td>0</td>\n",
              "      <td>0</td>\n",
              "      <td>0</td>\n",
              "      <td>0</td>\n",
              "      <td>0</td>\n",
              "      <td>0</td>\n",
              "      <td>0</td>\n",
              "      <td>0</td>\n",
              "      <td>0</td>\n",
              "      <td>0</td>\n",
              "      <td>0</td>\n",
              "      <td>0</td>\n",
              "      <td>0</td>\n",
              "      <td>0</td>\n",
              "      <td>0</td>\n",
              "      <td>0</td>\n",
              "      <td>0</td>\n",
              "      <td>0</td>\n",
              "      <td>0</td>\n",
              "      <td>0</td>\n",
              "      <td>0</td>\n",
              "      <td>0</td>\n",
              "      <td>0</td>\n",
              "      <td>0</td>\n",
              "      <td>0</td>\n",
              "      <td>0</td>\n",
              "      <td>0</td>\n",
              "      <td>0</td>\n",
              "      <td>0</td>\n",
              "      <td>0</td>\n",
              "      <td>0</td>\n",
              "      <td>0</td>\n",
              "      <td>0</td>\n",
              "      <td>0</td>\n",
              "      <td>...</td>\n",
              "      <td>0</td>\n",
              "      <td>0</td>\n",
              "      <td>0</td>\n",
              "      <td>0</td>\n",
              "      <td>0</td>\n",
              "      <td>0</td>\n",
              "      <td>0</td>\n",
              "      <td>0</td>\n",
              "      <td>0</td>\n",
              "      <td>0</td>\n",
              "      <td>0</td>\n",
              "      <td>0</td>\n",
              "      <td>0</td>\n",
              "      <td>0</td>\n",
              "      <td>0</td>\n",
              "      <td>0</td>\n",
              "      <td>0</td>\n",
              "      <td>0</td>\n",
              "      <td>0</td>\n",
              "      <td>0</td>\n",
              "      <td>0</td>\n",
              "      <td>0</td>\n",
              "      <td>0</td>\n",
              "      <td>0</td>\n",
              "      <td>0</td>\n",
              "      <td>0</td>\n",
              "      <td>0</td>\n",
              "      <td>0</td>\n",
              "      <td>0</td>\n",
              "      <td>0</td>\n",
              "      <td>0</td>\n",
              "      <td>0</td>\n",
              "      <td>0</td>\n",
              "      <td>0</td>\n",
              "      <td>0</td>\n",
              "      <td>0</td>\n",
              "      <td>0</td>\n",
              "      <td>0</td>\n",
              "      <td>0</td>\n",
              "      <td>0</td>\n",
              "    </tr>\n",
              "    <tr>\n",
              "      <th>16305</th>\n",
              "      <td>0</td>\n",
              "      <td>0</td>\n",
              "      <td>0</td>\n",
              "      <td>0</td>\n",
              "      <td>0</td>\n",
              "      <td>0</td>\n",
              "      <td>0</td>\n",
              "      <td>0</td>\n",
              "      <td>0</td>\n",
              "      <td>0</td>\n",
              "      <td>0</td>\n",
              "      <td>0</td>\n",
              "      <td>0</td>\n",
              "      <td>0</td>\n",
              "      <td>0</td>\n",
              "      <td>0</td>\n",
              "      <td>0</td>\n",
              "      <td>0</td>\n",
              "      <td>0</td>\n",
              "      <td>0</td>\n",
              "      <td>0</td>\n",
              "      <td>0</td>\n",
              "      <td>0</td>\n",
              "      <td>0</td>\n",
              "      <td>0</td>\n",
              "      <td>0</td>\n",
              "      <td>0</td>\n",
              "      <td>0</td>\n",
              "      <td>0</td>\n",
              "      <td>0</td>\n",
              "      <td>0</td>\n",
              "      <td>0</td>\n",
              "      <td>0</td>\n",
              "      <td>0</td>\n",
              "      <td>0</td>\n",
              "      <td>0</td>\n",
              "      <td>0</td>\n",
              "      <td>0</td>\n",
              "      <td>0</td>\n",
              "      <td>0</td>\n",
              "      <td>...</td>\n",
              "      <td>0</td>\n",
              "      <td>0</td>\n",
              "      <td>0</td>\n",
              "      <td>0</td>\n",
              "      <td>0</td>\n",
              "      <td>0</td>\n",
              "      <td>0</td>\n",
              "      <td>0</td>\n",
              "      <td>0</td>\n",
              "      <td>0</td>\n",
              "      <td>0</td>\n",
              "      <td>0</td>\n",
              "      <td>0</td>\n",
              "      <td>0</td>\n",
              "      <td>0</td>\n",
              "      <td>0</td>\n",
              "      <td>0</td>\n",
              "      <td>0</td>\n",
              "      <td>0</td>\n",
              "      <td>0</td>\n",
              "      <td>0</td>\n",
              "      <td>0</td>\n",
              "      <td>0</td>\n",
              "      <td>0</td>\n",
              "      <td>0</td>\n",
              "      <td>0</td>\n",
              "      <td>0</td>\n",
              "      <td>0</td>\n",
              "      <td>0</td>\n",
              "      <td>0</td>\n",
              "      <td>0</td>\n",
              "      <td>0</td>\n",
              "      <td>0</td>\n",
              "      <td>0</td>\n",
              "      <td>0</td>\n",
              "      <td>0</td>\n",
              "      <td>0</td>\n",
              "      <td>0</td>\n",
              "      <td>0</td>\n",
              "      <td>0</td>\n",
              "    </tr>\n",
              "    <tr>\n",
              "      <th>16306</th>\n",
              "      <td>0</td>\n",
              "      <td>0</td>\n",
              "      <td>0</td>\n",
              "      <td>0</td>\n",
              "      <td>0</td>\n",
              "      <td>0</td>\n",
              "      <td>0</td>\n",
              "      <td>0</td>\n",
              "      <td>0</td>\n",
              "      <td>0</td>\n",
              "      <td>0</td>\n",
              "      <td>0</td>\n",
              "      <td>0</td>\n",
              "      <td>0</td>\n",
              "      <td>0</td>\n",
              "      <td>0</td>\n",
              "      <td>0</td>\n",
              "      <td>0</td>\n",
              "      <td>0</td>\n",
              "      <td>0</td>\n",
              "      <td>0</td>\n",
              "      <td>0</td>\n",
              "      <td>0</td>\n",
              "      <td>0</td>\n",
              "      <td>0</td>\n",
              "      <td>0</td>\n",
              "      <td>0</td>\n",
              "      <td>0</td>\n",
              "      <td>0</td>\n",
              "      <td>0</td>\n",
              "      <td>0</td>\n",
              "      <td>0</td>\n",
              "      <td>0</td>\n",
              "      <td>0</td>\n",
              "      <td>0</td>\n",
              "      <td>0</td>\n",
              "      <td>0</td>\n",
              "      <td>0</td>\n",
              "      <td>0</td>\n",
              "      <td>0</td>\n",
              "      <td>...</td>\n",
              "      <td>0</td>\n",
              "      <td>0</td>\n",
              "      <td>0</td>\n",
              "      <td>0</td>\n",
              "      <td>0</td>\n",
              "      <td>0</td>\n",
              "      <td>0</td>\n",
              "      <td>0</td>\n",
              "      <td>0</td>\n",
              "      <td>0</td>\n",
              "      <td>0</td>\n",
              "      <td>0</td>\n",
              "      <td>0</td>\n",
              "      <td>0</td>\n",
              "      <td>0</td>\n",
              "      <td>0</td>\n",
              "      <td>0</td>\n",
              "      <td>0</td>\n",
              "      <td>0</td>\n",
              "      <td>0</td>\n",
              "      <td>0</td>\n",
              "      <td>0</td>\n",
              "      <td>0</td>\n",
              "      <td>0</td>\n",
              "      <td>0</td>\n",
              "      <td>0</td>\n",
              "      <td>0</td>\n",
              "      <td>0</td>\n",
              "      <td>0</td>\n",
              "      <td>0</td>\n",
              "      <td>0</td>\n",
              "      <td>0</td>\n",
              "      <td>0</td>\n",
              "      <td>0</td>\n",
              "      <td>0</td>\n",
              "      <td>0</td>\n",
              "      <td>0</td>\n",
              "      <td>0</td>\n",
              "      <td>0</td>\n",
              "      <td>0</td>\n",
              "    </tr>\n",
              "    <tr>\n",
              "      <th>16307</th>\n",
              "      <td>0</td>\n",
              "      <td>0</td>\n",
              "      <td>0</td>\n",
              "      <td>0</td>\n",
              "      <td>0</td>\n",
              "      <td>0</td>\n",
              "      <td>0</td>\n",
              "      <td>0</td>\n",
              "      <td>0</td>\n",
              "      <td>0</td>\n",
              "      <td>0</td>\n",
              "      <td>0</td>\n",
              "      <td>0</td>\n",
              "      <td>0</td>\n",
              "      <td>0</td>\n",
              "      <td>0</td>\n",
              "      <td>0</td>\n",
              "      <td>0</td>\n",
              "      <td>0</td>\n",
              "      <td>0</td>\n",
              "      <td>0</td>\n",
              "      <td>0</td>\n",
              "      <td>0</td>\n",
              "      <td>0</td>\n",
              "      <td>0</td>\n",
              "      <td>0</td>\n",
              "      <td>0</td>\n",
              "      <td>0</td>\n",
              "      <td>0</td>\n",
              "      <td>0</td>\n",
              "      <td>0</td>\n",
              "      <td>0</td>\n",
              "      <td>0</td>\n",
              "      <td>0</td>\n",
              "      <td>0</td>\n",
              "      <td>0</td>\n",
              "      <td>0</td>\n",
              "      <td>0</td>\n",
              "      <td>0</td>\n",
              "      <td>0</td>\n",
              "      <td>...</td>\n",
              "      <td>0</td>\n",
              "      <td>0</td>\n",
              "      <td>0</td>\n",
              "      <td>0</td>\n",
              "      <td>0</td>\n",
              "      <td>0</td>\n",
              "      <td>0</td>\n",
              "      <td>0</td>\n",
              "      <td>0</td>\n",
              "      <td>0</td>\n",
              "      <td>0</td>\n",
              "      <td>0</td>\n",
              "      <td>0</td>\n",
              "      <td>0</td>\n",
              "      <td>0</td>\n",
              "      <td>0</td>\n",
              "      <td>0</td>\n",
              "      <td>0</td>\n",
              "      <td>0</td>\n",
              "      <td>0</td>\n",
              "      <td>0</td>\n",
              "      <td>0</td>\n",
              "      <td>0</td>\n",
              "      <td>0</td>\n",
              "      <td>0</td>\n",
              "      <td>0</td>\n",
              "      <td>0</td>\n",
              "      <td>0</td>\n",
              "      <td>0</td>\n",
              "      <td>0</td>\n",
              "      <td>0</td>\n",
              "      <td>0</td>\n",
              "      <td>0</td>\n",
              "      <td>0</td>\n",
              "      <td>0</td>\n",
              "      <td>0</td>\n",
              "      <td>0</td>\n",
              "      <td>0</td>\n",
              "      <td>0</td>\n",
              "      <td>0</td>\n",
              "    </tr>\n",
              "  </tbody>\n",
              "</table>\n",
              "<p>16308 rows × 15000 columns</p>\n",
              "</div>\n",
              "      <button class=\"colab-df-convert\" onclick=\"convertToInteractive('df-7baa9c98-39b6-42ee-a306-2ffe9275de72')\"\n",
              "              title=\"Convert this dataframe to an interactive table.\"\n",
              "              style=\"display:none;\">\n",
              "        \n",
              "  <svg xmlns=\"http://www.w3.org/2000/svg\" height=\"24px\"viewBox=\"0 0 24 24\"\n",
              "       width=\"24px\">\n",
              "    <path d=\"M0 0h24v24H0V0z\" fill=\"none\"/>\n",
              "    <path d=\"M18.56 5.44l.94 2.06.94-2.06 2.06-.94-2.06-.94-.94-2.06-.94 2.06-2.06.94zm-11 1L8.5 8.5l.94-2.06 2.06-.94-2.06-.94L8.5 2.5l-.94 2.06-2.06.94zm10 10l.94 2.06.94-2.06 2.06-.94-2.06-.94-.94-2.06-.94 2.06-2.06.94z\"/><path d=\"M17.41 7.96l-1.37-1.37c-.4-.4-.92-.59-1.43-.59-.52 0-1.04.2-1.43.59L10.3 9.45l-7.72 7.72c-.78.78-.78 2.05 0 2.83L4 21.41c.39.39.9.59 1.41.59.51 0 1.02-.2 1.41-.59l7.78-7.78 2.81-2.81c.8-.78.8-2.07 0-2.86zM5.41 20L4 18.59l7.72-7.72 1.47 1.35L5.41 20z\"/>\n",
              "  </svg>\n",
              "      </button>\n",
              "      \n",
              "  <style>\n",
              "    .colab-df-container {\n",
              "      display:flex;\n",
              "      flex-wrap:wrap;\n",
              "      gap: 12px;\n",
              "    }\n",
              "\n",
              "    .colab-df-convert {\n",
              "      background-color: #E8F0FE;\n",
              "      border: none;\n",
              "      border-radius: 50%;\n",
              "      cursor: pointer;\n",
              "      display: none;\n",
              "      fill: #1967D2;\n",
              "      height: 32px;\n",
              "      padding: 0 0 0 0;\n",
              "      width: 32px;\n",
              "    }\n",
              "\n",
              "    .colab-df-convert:hover {\n",
              "      background-color: #E2EBFA;\n",
              "      box-shadow: 0px 1px 2px rgba(60, 64, 67, 0.3), 0px 1px 3px 1px rgba(60, 64, 67, 0.15);\n",
              "      fill: #174EA6;\n",
              "    }\n",
              "\n",
              "    [theme=dark] .colab-df-convert {\n",
              "      background-color: #3B4455;\n",
              "      fill: #D2E3FC;\n",
              "    }\n",
              "\n",
              "    [theme=dark] .colab-df-convert:hover {\n",
              "      background-color: #434B5C;\n",
              "      box-shadow: 0px 1px 3px 1px rgba(0, 0, 0, 0.15);\n",
              "      filter: drop-shadow(0px 1px 2px rgba(0, 0, 0, 0.3));\n",
              "      fill: #FFFFFF;\n",
              "    }\n",
              "  </style>\n",
              "\n",
              "      <script>\n",
              "        const buttonEl =\n",
              "          document.querySelector('#df-7baa9c98-39b6-42ee-a306-2ffe9275de72 button.colab-df-convert');\n",
              "        buttonEl.style.display =\n",
              "          google.colab.kernel.accessAllowed ? 'block' : 'none';\n",
              "\n",
              "        async function convertToInteractive(key) {\n",
              "          const element = document.querySelector('#df-7baa9c98-39b6-42ee-a306-2ffe9275de72');\n",
              "          const dataTable =\n",
              "            await google.colab.kernel.invokeFunction('convertToInteractive',\n",
              "                                                     [key], {});\n",
              "          if (!dataTable) return;\n",
              "\n",
              "          const docLinkHtml = 'Like what you see? Visit the ' +\n",
              "            '<a target=\"_blank\" href=https://colab.research.google.com/notebooks/data_table.ipynb>data table notebook</a>'\n",
              "            + ' to learn more about interactive tables.';\n",
              "          element.innerHTML = '';\n",
              "          dataTable['output_type'] = 'display_data';\n",
              "          await google.colab.output.renderOutput(dataTable, element);\n",
              "          const docLink = document.createElement('div');\n",
              "          docLink.innerHTML = docLinkHtml;\n",
              "          element.appendChild(docLink);\n",
              "        }\n",
              "      </script>\n",
              "    </div>\n",
              "  </div>\n",
              "  "
            ],
            "text/plain": [
              "       00  000  01  02  03  04  ...  únicas  único  únicos  útero  útil  útiles\n",
              "0       0    0   0   0   0   0  ...       0      0       0      0     0       0\n",
              "1       0    0   0   0   0   0  ...       0      0       0      0     0       0\n",
              "2       0    0   0   0   0   0  ...       0      0       0      0     0       0\n",
              "3       0    0   0   0   0   0  ...       0      0       0      0     0       0\n",
              "4       0    0   0   0   0   0  ...       0      0       0      0     0       0\n",
              "...    ..  ...  ..  ..  ..  ..  ...     ...    ...     ...    ...   ...     ...\n",
              "16303   0    0   0   0   0   0  ...       0      0       0      0     0       0\n",
              "16304   0    0   0   0   0   0  ...       0      0       0      0     0       0\n",
              "16305   0    0   0   0   0   0  ...       0      0       0      0     0       0\n",
              "16306   0    0   0   0   0   0  ...       0      0       0      0     0       0\n",
              "16307   0    0   0   0   0   0  ...       0      0       0      0     0       0\n",
              "\n",
              "[16308 rows x 15000 columns]"
            ]
          },
          "execution_count": 14,
          "metadata": {},
          "output_type": "execute_result"
        }
      ],
      "source": [
        "vectors_develop_df"
      ]
    },
    {
      "cell_type": "code",
      "execution_count": 15,
      "metadata": {
        "colab": {
          "base_uri": "https://localhost:8080/"
        },
        "id": "nxv95ZBsFcd4",
        "outputId": "458d440e-81c4-4aa7-bfcf-fef221125410"
      },
      "outputs": [
        {
          "name": "stderr",
          "output_type": "stream",
          "text": [
            "/usr/local/lib/python3.7/dist-packages/sklearn/linear_model/_logistic.py:818: ConvergenceWarning: lbfgs failed to converge (status=1):\n",
            "STOP: TOTAL NO. of ITERATIONS REACHED LIMIT.\n",
            "\n",
            "Increase the number of iterations (max_iter) or scale the data as shown in:\n",
            "    https://scikit-learn.org/stable/modules/preprocessing.html\n",
            "Please also refer to the documentation for alternative solver options:\n",
            "    https://scikit-learn.org/stable/modules/linear_model.html#logistic-regression\n",
            "  extra_warning_msg=_LOGISTIC_SOLVER_CONVERGENCE_MSG,\n"
          ]
        }
      ],
      "source": [
        "#reducimos la cantidad de tuits porque la RAM no soporta todos para el entrenamiento\n",
        "training_array = get_text_array(training_df)[:25000]\n",
        "training_class = training_df['class'].to_numpy()[:25000]\n",
        "\n",
        "vectors_training_df = get_vectors_dataframe(training_array)\n",
        "\n",
        "logisticRegr = train_logistic_regression(vectors_training_df, training_class)\n",
        "\n",
        "score = logisticRegr.score(vectors_develop_df, develop_class)"
      ]
    },
    {
      "cell_type": "markdown",
      "metadata": {
        "id": "3zEIivO6cF0K"
      },
      "source": [
        "----------------------\n",
        "a lo mejor hace falta un delete (del) de los valores de aca arriba, pero hacerlo cuando termina la seccion"
      ]
    },
    {
      "cell_type": "markdown",
      "metadata": {
        "id": "jAUXT4zsMhAu"
      },
      "source": [
        "En esta primera iteracion, como la clase del 0 tiene muchos mas elementos de entrenamiento, las predicciones tienden a llevar a la mayoria de tweets a esa clase."
      ]
    },
    {
      "cell_type": "code",
      "execution_count": 16,
      "metadata": {
        "colab": {
          "base_uri": "https://localhost:8080/",
          "height": 732
        },
        "id": "M-2xGol3KAAo",
        "outputId": "3758a174-0431-49e0-e7fb-a561c380714a"
      },
      "outputs": [
        {
          "data": {
            "image/png": "[encoded data removed]",
            "text/plain": [
              "<Figure size 864x864 with 1 Axes>"
            ]
          },
          "metadata": {
            "needs_background": "light"
          },
          "output_type": "display_data"
        }
      ],
      "source": [
        "plt_confusion_matrix(logisticRegr, vectors_develop_df, develop_class, score, \"Basic_BOW\")"
      ]
    },
    {
      "cell_type": "markdown",
      "metadata": {
        "id": "v1NNxLYAFml6"
      },
      "source": [
        "#BOW con clase del 0 y 1 divididas\n"
      ]
    },
    {
      "cell_type": "markdown",
      "metadata": {
        "id": "v5cYcwcuO4db"
      },
      "source": [
        "Para que la prediccion no se base en la cantidad de elementos, si no que se concentre en realmente el contenido del tweet, separamos la clase del 0 y del 1 en otros nuevos dataframes, los cuales estan marcados con subgrupos para ser entrenados por separado y tomar el promedio entre los resultados."
      ]
    },
    {
      "cell_type": "code",
      "execution_count": 17,
      "metadata": {
        "colab": {
          "base_uri": "https://localhost:8080/",
          "height": 423
        },
        "id": "FwnO37ApODXF",
        "outputId": "f4f04209-fef5-44d6-e6c2-f2045935f03e"
      },
      "outputs": [
        {
          "data": {
            "text/html": [
              "\n",
              "  <div id=\"df-64eda540-0ca1-4b24-a26e-a5077689b3cd\">\n",
              "    <div class=\"colab-df-container\">\n",
              "      <div>\n",
              "<style scoped>\n",
              "    .dataframe tbody tr th:only-of-type {\n",
              "        vertical-align: middle;\n",
              "    }\n",
              "\n",
              "    .dataframe tbody tr th {\n",
              "        vertical-align: top;\n",
              "    }\n",
              "\n",
              "    .dataframe thead th {\n",
              "        text-align: right;\n",
              "    }\n",
              "</style>\n",
              "<table border=\"1\" class=\"dataframe\">\n",
              "  <thead>\n",
              "    <tr style=\"text-align: right;\">\n",
              "      <th></th>\n",
              "      <th>ans</th>\n",
              "      <th>created_at</th>\n",
              "      <th>id_str</th>\n",
              "      <th>full_text</th>\n",
              "      <th>in_reply_to_status_id</th>\n",
              "      <th>in_reply_to_user_id</th>\n",
              "      <th>user_id</th>\n",
              "      <th>class</th>\n",
              "      <th>subgrupo</th>\n",
              "    </tr>\n",
              "  </thead>\n",
              "  <tbody>\n",
              "    <tr>\n",
              "      <th>0</th>\n",
              "      <td>0</td>\n",
              "      <td>Sat Mar 13 03:56:36 +0000 2021</td>\n",
              "      <td>1370584553845366788</td>\n",
              "      <td>Mi mamá en Río Grande, clavó la Sputnik V y le...</td>\n",
              "      <td>1370344483796189184</td>\n",
              "      <td>367933714</td>\n",
              "      <td>34724559</td>\n",
              "      <td>0</td>\n",
              "      <td>4</td>\n",
              "    </tr>\n",
              "    <tr>\n",
              "      <th>1</th>\n",
              "      <td>0</td>\n",
              "      <td>Tue Jan 19 13:22:13 +0000 2021</td>\n",
              "      <td>1351520337016578048</td>\n",
              "      <td>Cuando gobiernan Ellos es El Todo Pasa de Gron...</td>\n",
              "      <td>1351519522411458560</td>\n",
              "      <td>252168075</td>\n",
              "      <td>358378950</td>\n",
              "      <td>0</td>\n",
              "      <td>18</td>\n",
              "    </tr>\n",
              "    <tr>\n",
              "      <th>2</th>\n",
              "      <td>0</td>\n",
              "      <td>Tue Feb 02 19:56:41 +0000 2021</td>\n",
              "      <td>1356693040463826953</td>\n",
              "      <td>Con controlar ezeiza era el 50 % del laburo,si...</td>\n",
              "      <td>1356691940423708673</td>\n",
              "      <td>4843819715</td>\n",
              "      <td>2301867769</td>\n",
              "      <td>0</td>\n",
              "      <td>1</td>\n",
              "    </tr>\n",
              "    <tr>\n",
              "      <th>3</th>\n",
              "      <td>0</td>\n",
              "      <td>Fri Mar 05 11:13:05 +0000 2021</td>\n",
              "      <td>1367795295946485763</td>\n",
              "      <td>Mejor! Tenemos n sistema inmunológico que no n...</td>\n",
              "      <td>1367606349513830401</td>\n",
              "      <td>252168075</td>\n",
              "      <td>869693162016694272</td>\n",
              "      <td>0</td>\n",
              "      <td>12</td>\n",
              "    </tr>\n",
              "    <tr>\n",
              "      <th>4</th>\n",
              "      <td>0</td>\n",
              "      <td>Mon Feb 22 18:40:43 +0000 2021</td>\n",
              "      <td>1363921679278362626</td>\n",
              "      <td>Pero como dos semanas? Si Valdez y taiana se v...</td>\n",
              "      <td>1363642642706358278</td>\n",
              "      <td>367933714</td>\n",
              "      <td>1309174618863874048</td>\n",
              "      <td>0</td>\n",
              "      <td>6</td>\n",
              "    </tr>\n",
              "    <tr>\n",
              "      <th>...</th>\n",
              "      <td>...</td>\n",
              "      <td>...</td>\n",
              "      <td>...</td>\n",
              "      <td>...</td>\n",
              "      <td>...</td>\n",
              "      <td>...</td>\n",
              "      <td>...</td>\n",
              "      <td>...</td>\n",
              "      <td>...</td>\n",
              "    </tr>\n",
              "    <tr>\n",
              "      <th>93753</th>\n",
              "      <td>0</td>\n",
              "      <td>Wed Feb 24 00:05:41 +0000 2021</td>\n",
              "      <td>1364365849780436993</td>\n",
              "      <td>Eso si no es funcionario público, en cuyo caso...</td>\n",
              "      <td>1363829041367822338</td>\n",
              "      <td>1571834425</td>\n",
              "      <td>1299779790266863617</td>\n",
              "      <td>0</td>\n",
              "      <td>3</td>\n",
              "    </tr>\n",
              "    <tr>\n",
              "      <th>93754</th>\n",
              "      <td>0</td>\n",
              "      <td>Sat Feb 20 21:08:32 +0000 2021</td>\n",
              "      <td>1363234105115041792</td>\n",
              "      <td>@senior_enduto, no te pongas a la defensiva as...</td>\n",
              "      <td>1363231962505375747</td>\n",
              "      <td>2831912244</td>\n",
              "      <td>1236566016</td>\n",
              "      <td>0</td>\n",
              "      <td>12</td>\n",
              "    </tr>\n",
              "    <tr>\n",
              "      <th>93755</th>\n",
              "      <td>0</td>\n",
              "      <td>Fri Jan 29 23:23:22 +0000 2021</td>\n",
              "      <td>1355295500782735360</td>\n",
              "      <td>La ideologización y la obsecuencia rompen todo</td>\n",
              "      <td>1355295097940803593</td>\n",
              "      <td>252168075</td>\n",
              "      <td>153866271</td>\n",
              "      <td>0</td>\n",
              "      <td>5</td>\n",
              "    </tr>\n",
              "    <tr>\n",
              "      <th>93756</th>\n",
              "      <td>0</td>\n",
              "      <td>Fri Feb 12 12:05:45 +0000 2021</td>\n",
              "      <td>1360198403662237696</td>\n",
              "      <td>¿Descontaron o estan contadas como muertes x c...</td>\n",
              "      <td>1359667090282713090</td>\n",
              "      <td>73102744</td>\n",
              "      <td>1034564064658313217</td>\n",
              "      <td>0</td>\n",
              "      <td>13</td>\n",
              "    </tr>\n",
              "    <tr>\n",
              "      <th>93757</th>\n",
              "      <td>0</td>\n",
              "      <td>Thu Jan 14 15:03:57 +0000 2021</td>\n",
              "      <td>1349733999850135554</td>\n",
              "      <td>1. Michael\\n2. Homero se vuelve inteligente y ...</td>\n",
              "      <td>1349513197775155203</td>\n",
              "      <td>593189095</td>\n",
              "      <td>151576418</td>\n",
              "      <td>0</td>\n",
              "      <td>7</td>\n",
              "    </tr>\n",
              "  </tbody>\n",
              "</table>\n",
              "<p>93758 rows × 9 columns</p>\n",
              "</div>\n",
              "      <button class=\"colab-df-convert\" onclick=\"convertToInteractive('df-64eda540-0ca1-4b24-a26e-a5077689b3cd')\"\n",
              "              title=\"Convert this dataframe to an interactive table.\"\n",
              "              style=\"display:none;\">\n",
              "        \n",
              "  <svg xmlns=\"http://www.w3.org/2000/svg\" height=\"24px\"viewBox=\"0 0 24 24\"\n",
              "       width=\"24px\">\n",
              "    <path d=\"M0 0h24v24H0V0z\" fill=\"none\"/>\n",
              "    <path d=\"M18.56 5.44l.94 2.06.94-2.06 2.06-.94-2.06-.94-.94-2.06-.94 2.06-2.06.94zm-11 1L8.5 8.5l.94-2.06 2.06-.94-2.06-.94L8.5 2.5l-.94 2.06-2.06.94zm10 10l.94 2.06.94-2.06 2.06-.94-2.06-.94-.94-2.06-.94 2.06-2.06.94z\"/><path d=\"M17.41 7.96l-1.37-1.37c-.4-.4-.92-.59-1.43-.59-.52 0-1.04.2-1.43.59L10.3 9.45l-7.72 7.72c-.78.78-.78 2.05 0 2.83L4 21.41c.39.39.9.59 1.41.59.51 0 1.02-.2 1.41-.59l7.78-7.78 2.81-2.81c.8-.78.8-2.07 0-2.86zM5.41 20L4 18.59l7.72-7.72 1.47 1.35L5.41 20z\"/>\n",
              "  </svg>\n",
              "      </button>\n",
              "      \n",
              "  <style>\n",
              "    .colab-df-container {\n",
              "      display:flex;\n",
              "      flex-wrap:wrap;\n",
              "      gap: 12px;\n",
              "    }\n",
              "\n",
              "    .colab-df-convert {\n",
              "      background-color: #E8F0FE;\n",
              "      border: none;\n",
              "      border-radius: 50%;\n",
              "      cursor: pointer;\n",
              "      display: none;\n",
              "      fill: #1967D2;\n",
              "      height: 32px;\n",
              "      padding: 0 0 0 0;\n",
              "      width: 32px;\n",
              "    }\n",
              "\n",
              "    .colab-df-convert:hover {\n",
              "      background-color: #E2EBFA;\n",
              "      box-shadow: 0px 1px 2px rgba(60, 64, 67, 0.3), 0px 1px 3px 1px rgba(60, 64, 67, 0.15);\n",
              "      fill: #174EA6;\n",
              "    }\n",
              "\n",
              "    [theme=dark] .colab-df-convert {\n",
              "      background-color: #3B4455;\n",
              "      fill: #D2E3FC;\n",
              "    }\n",
              "\n",
              "    [theme=dark] .colab-df-convert:hover {\n",
              "      background-color: #434B5C;\n",
              "      box-shadow: 0px 1px 3px 1px rgba(0, 0, 0, 0.15);\n",
              "      filter: drop-shadow(0px 1px 2px rgba(0, 0, 0, 0.3));\n",
              "      fill: #FFFFFF;\n",
              "    }\n",
              "  </style>\n",
              "\n",
              "      <script>\n",
              "        const buttonEl =\n",
              "          document.querySelector('#df-64eda540-0ca1-4b24-a26e-a5077689b3cd button.colab-df-convert');\n",
              "        buttonEl.style.display =\n",
              "          google.colab.kernel.accessAllowed ? 'block' : 'none';\n",
              "\n",
              "        async function convertToInteractive(key) {\n",
              "          const element = document.querySelector('#df-64eda540-0ca1-4b24-a26e-a5077689b3cd');\n",
              "          const dataTable =\n",
              "            await google.colab.kernel.invokeFunction('convertToInteractive',\n",
              "                                                     [key], {});\n",
              "          if (!dataTable) return;\n",
              "\n",
              "          const docLinkHtml = 'Like what you see? Visit the ' +\n",
              "            '<a target=\"_blank\" href=https://colab.research.google.com/notebooks/data_table.ipynb>data table notebook</a>'\n",
              "            + ' to learn more about interactive tables.';\n",
              "          element.innerHTML = '';\n",
              "          dataTable['output_type'] = 'display_data';\n",
              "          await google.colab.output.renderOutput(dataTable, element);\n",
              "          const docLink = document.createElement('div');\n",
              "          docLink.innerHTML = docLinkHtml;\n",
              "          element.appendChild(docLink);\n",
              "        }\n",
              "      </script>\n",
              "    </div>\n",
              "  </div>\n",
              "  "
            ],
            "text/plain": [
              "       ans                      created_at  ...  class subgrupo\n",
              "0        0  Sat Mar 13 03:56:36 +0000 2021  ...      0        4\n",
              "1        0  Tue Jan 19 13:22:13 +0000 2021  ...      0       18\n",
              "2        0  Tue Feb 02 19:56:41 +0000 2021  ...      0        1\n",
              "3        0  Fri Mar 05 11:13:05 +0000 2021  ...      0       12\n",
              "4        0  Mon Feb 22 18:40:43 +0000 2021  ...      0        6\n",
              "...    ...                             ...  ...    ...      ...\n",
              "93753    0  Wed Feb 24 00:05:41 +0000 2021  ...      0        3\n",
              "93754    0  Sat Feb 20 21:08:32 +0000 2021  ...      0       12\n",
              "93755    0  Fri Jan 29 23:23:22 +0000 2021  ...      0        5\n",
              "93756    0  Fri Feb 12 12:05:45 +0000 2021  ...      0       13\n",
              "93757    0  Thu Jan 14 15:03:57 +0000 2021  ...      0        7\n",
              "\n",
              "[93758 rows x 9 columns]"
            ]
          },
          "execution_count": 17,
          "metadata": {},
          "output_type": "execute_result"
        }
      ],
      "source": [
        "training_0_df"
      ]
    },
    {
      "cell_type": "markdown",
      "metadata": {
        "id": "-K7k6QureKkH"
      },
      "source": [
        "Teniendo los tweets con 0 y 1 respuestas separados y marcados con sus subgrupos para ser divididos nuevamente, se va a utilizar la funcion join_dataframes que toma como input los dataframes de tuits con 0,con 1 y con 2 y +3 respuestas y los une mediante dos indices que indicaran que subgrupo de los df de 0 y 1 respuestas elegir. Para elegir estos indices, simplemente se van a tomar todas las combinaciones, en un loop anidado.\n"
      ]
    },
    {
      "cell_type": "code",
      "execution_count": 18,
      "metadata": {
        "id": "AMiYjSkzl-0R"
      },
      "outputs": [],
      "source": [
        "def join_dataframes(training_0, training_1, training_extra, idx_0, idx_1):\n",
        "  training_0_df  = training_0.loc[training_0['subgrupo'] == idx_0]\n",
        "  training_1_df  = training_1.loc[training_1['subgrupo'] == idx_1]\n",
        "  training_dataframe = pd.concat([training_0_df, training_1_df, training_extra], ignore_index=True)\n",
        "  training_dataframe = training_dataframe.drop(columns=['subgrupo'])\n",
        "  return training_dataframe"
      ]
    },
    {
      "cell_type": "markdown",
      "metadata": {
        "id": "UUrEFssHOn3c"
      },
      "source": [
        "Funcion para entrenar con logistic regression, para los dataframes divididos en clases."
      ]
    },
    {
      "cell_type": "code",
      "execution_count": 19,
      "metadata": {
        "id": "_5JFTShLiahi"
      },
      "outputs": [],
      "source": [
        "def get_LogisticRegr_subset(idx_0, idx_1, training_0_df=training_0_df, training_1_df=training_1_df, training_extra_df=training_extra_df):\n",
        "  training_dataframe = join_dataframes(training_0_df, training_1_df, training_extra_df, idx_0, idx_1)\n",
        "  training_class = training_dataframe['class'].to_numpy()\n",
        "  vectors_training_df = get_vectors_dataframe(get_text_array(training_dataframe))\n",
        "  logisticRegr = train_logistic_regression(vectors_training_df, training_class)\n",
        "  return logisticRegr"
      ]
    },
    {
      "cell_type": "code",
      "execution_count": 20,
      "metadata": {
        "colab": {
          "base_uri": "https://localhost:8080/"
        },
        "id": "RDol1XEhmU0e",
        "outputId": "b5d51b83-f0b0-4eb6-a0a3-43776ce6e400"
      },
      "outputs": [
        {
          "name": "stderr",
          "output_type": "stream",
          "text": [
            "/usr/local/lib/python3.7/dist-packages/sklearn/linear_model/_logistic.py:818: ConvergenceWarning: lbfgs failed to converge (status=1):\n",
            "STOP: TOTAL NO. of ITERATIONS REACHED LIMIT.\n",
            "\n",
            "Increase the number of iterations (max_iter) or scale the data as shown in:\n",
            "    https://scikit-learn.org/stable/modules/preprocessing.html\n",
            "Please also refer to the documentation for alternative solver options:\n",
            "    https://scikit-learn.org/stable/modules/linear_model.html#logistic-regression\n",
            "  extra_warning_msg=_LOGISTIC_SOLVER_CONVERGENCE_MSG,\n"
          ]
        }
      ],
      "source": [
        "scores = []\n",
        "\n",
        "idx_1 = 1\n",
        "idx_0_random = randint(1,18)\n",
        "\n",
        "for idx_0 in range(1,19):\n",
        "  logisticRegr =get_LogisticRegr_subset(idx_0, 1)\n",
        "  score = logisticRegr.score(vectors_develop_df, develop_class)\n",
        "  scores.append(score)\n",
        "  if idx_0_random == idx_0:\n",
        "    saved_for_plot_emb = (logisticRegr, score, idx_0, idx_1)  "
      ]
    },
    {
      "cell_type": "markdown",
      "metadata": {
        "id": "J9WLfVrBcUli"
      },
      "source": [
        "----------------------\n",
        "a lo mejor hace falta un delete (del) de los valores de aca arriba, pero hacerlo cuando termina la seccion"
      ]
    },
    {
      "cell_type": "code",
      "execution_count": 21,
      "metadata": {
        "colab": {
          "base_uri": "https://localhost:8080/"
        },
        "id": "mCMZc9dW9SvX",
        "outputId": "fe6e7993-5d2b-4423-9ac0-572be9e51bae"
      },
      "outputs": [
        {
          "name": "stdout",
          "output_type": "stream",
          "text": [
            "[0.4519867549668874]\n"
          ]
        }
      ],
      "source": [
        "print(scores)"
      ]
    },
    {
      "cell_type": "markdown",
      "metadata": {
        "id": "Mu-17_g-SAWK"
      },
      "source": [
        "La de arriba fue la ejecucion de todos los subgrupos de la clase del 0, con el primer subgrupo de la clase del 1, ejecutar esto lleva mucho tiempo. Por esto, se corrieron las demas clases del 1 en otros notebooks, cambiando en la linea\n",
        "\n",
        "\n",
        "```\n",
        "idx_1 = 1\n",
        "```\n",
        "el 1  por los siguientes numeros hasta el 5 (`idx_1 = 2`, `idx_1 = 3`, etc),  para tomar las 5 clases.\n",
        "Aqui los resultados:"
      ]
    },
    {
      "cell_type": "code",
      "execution_count": 22,
      "metadata": {
        "id": "wbN9lZ7J58Hk"
      },
      "outputs": [],
      "source": [
        "class1 = [0.4519867549668874, 0.4404586705911209, 0.4541942604856512, 0.44885945548197204, 0.4527225901398087, 0.44990188864361047, 0.4527225901398087, 0.4448123620309051, 0.45719892077507973, 0.45578857002698064, 0.44499632082413537, 0.4515575177826833, 0.44622271277900416, 0.4625337257787589, 0.44542555800833944, 0.45204807456463086, 0.44984056904586706, 0.4491660534706892]\n",
        "class2 = [0.43941623742948244, 0.4455481972038263, 0.44401520726024035, 0.4386804022565612, 0.4440765268579838, 0.4334682364483689, 0.4400907530046603, 0.4331616384596517, 0.4448123620309051, 0.44383124846701005, 0.44873681628648515, 0.4480623007113073, 0.44291145450085845, 0.4506377238165318, 0.437392690703949, 0.44885945548197204, 0.4419916605347069, 0.44272749570762815]\n",
        "class3 = [0.44125582536178565, 0.4371474123129752, 0.4347559480009811, 0.4467132695609517, 0.4494726514594064, 0.4430954132940888, 0.4543168996811381, 0.4440765268579838, 0.4545008584743684, 0.43923227863625214, 0.45112828059847926, 0.45229335295560463, 0.44732646553838606, 0.46057149865096886, 0.44542555800833944, 0.4411945057640422, 0.45830267353446164, 0.45229335295560463]\n",
        "class4 = [0.45217071376011775, 0.45867059112092223, 0.4484915378955114, 0.4467745891586951, 0.44150110375275936, 0.43910963944076525, 0.45364238410596025, 0.44291145450085845, 0.44867549668874174, 0.4508216826097621, 0.4491047338729458, 0.4408265881775816, 0.4530905077262693, 0.45345842531272995, 0.44763306352710325, 0.45437821927888156, 0.4483075791022811, 0.44628403237674763]\n",
        "class5 = [0.45462349766985527, 0.4541329408879078, 0.45125091979396614, 0.44524159921510914, 0.4461000735835173, 0.44291145450085845, 0.44646799116997793, 0.4441991660534707, 0.4543168996811381, 0.44475104243316166, 0.4554819720382634, 0.4491047338729458, 0.4492273730684327, 0.46057149865096886, 0.4527225901398087, 0.4481849399067942, 0.4505764042187883, 0.44585479519254356]\n",
        "\n",
        "classes_perc_bow = class1+class2+class2+class4+class5"
      ]
    },
    {
      "cell_type": "code",
      "execution_count": 23,
      "metadata": {
        "colab": {
          "base_uri": "https://localhost:8080/"
        },
        "id": "_iqqJYet6CQB",
        "outputId": "14142da6-12a0-437b-bc31-7159d113d7f2"
      },
      "outputs": [
        {
          "name": "stdout",
          "output_type": "stream",
          "text": [
            "promedio:            0.4469\n",
            "desviacion estandar: 0.006\n"
          ]
        }
      ],
      "source": [
        "print(\"promedio:           \" ,round(sum(classes_perc_bow)/len(classes_perc_bow),4))\n",
        "print(\"desviacion estandar:\" ,round(pstdev(classes_perc_bow),4))"
      ]
    },
    {
      "cell_type": "code",
      "execution_count": 24,
      "metadata": {
        "colab": {
          "base_uri": "https://localhost:8080/",
          "height": 732
        },
        "id": "BPRbc7Y3gQD0",
        "outputId": "2a81c897-f700-4ec0-a79b-61db9b2be70d"
      },
      "outputs": [
        {
          "data": {
            "image/png": "[encoded data removed]",
            "text/plain": [
              "<Figure size 864x864 with 1 Axes>"
            ]
          },
          "metadata": {
            "needs_background": "light"
          },
          "output_type": "display_data"
        }
      ],
      "source": [
        "plt_confusion_matrix(saved_for_plot_emb[0], vectors_develop_df, develop_class, saved_for_plot_emb[1], f\"BOW_classes_{saved_for_plot_emb[2]}_{saved_for_plot_emb[3]}\")"
      ]
    },
    {
      "cell_type": "markdown",
      "metadata": {
        "id": "nwqAaeNe1ALH"
      },
      "source": [
        "# BOW Discreto"
      ]
    },
    {
      "cell_type": "markdown",
      "metadata": {
        "id": "E7Zl6E-kWI6V"
      },
      "source": [
        "Para analizar un poco mejor las cantidades de respuestas, sin depender de las clases que asignamos, se va a hacer un analisis tomando como las clases los primeros 20 enteros."
      ]
    },
    {
      "cell_type": "code",
      "execution_count": 25,
      "metadata": {
        "id": "OtepVS6mf_2r"
      },
      "outputs": [],
      "source": [
        "def get_tweets_class_discrete(dataframe):\n",
        "  tweets_class = []\n",
        "  for idx,data in dataframe.iterrows():\n",
        "      class_tw = 0\n",
        "      n_ans = data[\"ans\"]\n",
        "      if n_ans>=int(20):class_tw=20\n",
        "      else:class_tw = n_ans\n",
        "      tweets_class.append(class_tw)\n",
        "  return tweets_class"
      ]
    },
    {
      "cell_type": "code",
      "execution_count": 26,
      "metadata": {
        "id": "b2VlUdcP1tRN"
      },
      "outputs": [],
      "source": [
        "def get_LogisticRegr_subset_discrete(idx_0, idx_1, training_0_df=training_0_df, training_1_df=training_1_df, training_extra_df=training_extra_df):\n",
        "  training_dataframe = join_dataframes(training_0_df, training_1_df, training_extra_df, idx_0, idx_1)\n",
        "\n",
        "  training_class = get_tweets_class_discrete(training_dataframe)\n",
        "\n",
        "  vectors_training_df = get_vectors_dataframe(get_text_array(training_dataframe))\n",
        "  logisticRegr = train_logistic_regression(vectors_training_df, training_class)\n",
        "\n",
        "  return logisticRegr\n"
      ]
    },
    {
      "cell_type": "code",
      "execution_count": 27,
      "metadata": {
        "id": "TN-InEch1fGf"
      },
      "outputs": [],
      "source": [
        "develop_class_disc_bow = get_tweets_class_discrete(develop_df)"
      ]
    },
    {
      "cell_type": "markdown",
      "metadata": {
        "id": "R06K9JxsaIQX"
      },
      "source": [
        "----------------------- \n",
        "PONER LA CANTIDAD DE ELEMENTOS POR CLASE, para ver como es la distribucion, y ver asi como en la matriz de confusion depende de la cantidad de elementos.\n",
        "----------------------"
      ]
    },
    {
      "cell_type": "markdown",
      "metadata": {
        "id": "j5G2vS6rXSwv"
      },
      "source": [
        "Igual que en el metodo anterior, para no consumir memoria solo se corre en este notebook el loop de la clase del 0 con una sola clase del 1."
      ]
    },
    {
      "cell_type": "code",
      "execution_count": 28,
      "metadata": {
        "colab": {
          "base_uri": "https://localhost:8080/"
        },
        "id": "8qX7NMvG1NNn",
        "outputId": "3747a5bd-1d6a-482c-85dd-9c30c2e6cc22"
      },
      "outputs": [
        {
          "name": "stderr",
          "output_type": "stream",
          "text": [
            "/usr/local/lib/python3.7/dist-packages/sklearn/linear_model/_logistic.py:818: ConvergenceWarning: lbfgs failed to converge (status=1):\n",
            "STOP: TOTAL NO. of ITERATIONS REACHED LIMIT.\n",
            "\n",
            "Increase the number of iterations (max_iter) or scale the data as shown in:\n",
            "    https://scikit-learn.org/stable/modules/preprocessing.html\n",
            "Please also refer to the documentation for alternative solver options:\n",
            "    https://scikit-learn.org/stable/modules/linear_model.html#logistic-regression\n",
            "  extra_warning_msg=_LOGISTIC_SOLVER_CONVERGENCE_MSG,\n"
          ]
        }
      ],
      "source": [
        "scores = []\n",
        "idx_1 = 1\n",
        "idx_0_random = randint(1,18)\n",
        "\n",
        "for idx_0 in range(1,19):\n",
        "  logisticRegr = get_LogisticRegr_subset_discrete(idx_0, idx_1)\n",
        "  score = logisticRegr.score(vectors_develop_df, develop_class_disc_bow)\n",
        "  scores.append(score)\n",
        "  if idx_0_random == idx_0:\n",
        "    saved_for_plot_emb = (logisticRegr, score, idx_0, idx_1)  "
      ]
    },
    {
      "cell_type": "markdown",
      "metadata": {
        "id": "qfdvqFG2ccXh"
      },
      "source": [
        "----------------------\n",
        "a lo mejor hace falta un delete (del) de los valores de aca arriba, pero hacerlo cuando termina la seccion"
      ]
    },
    {
      "cell_type": "code",
      "execution_count": 29,
      "metadata": {
        "colab": {
          "base_uri": "https://localhost:8080/"
        },
        "id": "4AAwlHqw1yzX",
        "outputId": "a5e0e615-d050-4884-ace3-460421613c5d"
      },
      "outputs": [
        {
          "name": "stdout",
          "output_type": "stream",
          "text": [
            "[0.46388275692911457]\n"
          ]
        }
      ],
      "source": [
        "print(scores)"
      ]
    },
    {
      "cell_type": "code",
      "execution_count": 30,
      "metadata": {
        "id": "Z4Wi94fOj4mk"
      },
      "outputs": [],
      "source": [
        "class_1_bow_disc = [0.46388275692911457, 0.45486877606082904, 0.46216580819229824, 0.46927888153053715, 0.46805248957566836, 0.45818003433897475, 0.47541084130488104, 0.4587319107186657, 0.46768457198920776, 0.46792985038018153, 0.49294824625950456, 0.47657591366200636, 0.4622271277900417, 0.464925190090753, 0.4637601177336277, 0.4673166544027471, 0.4735712533725779, 0.4630242825607064]\n",
        "class_2_bow_disc = [0.4608167770419426, 0.46192052980132453, 0.45916114790286977, 0.4675006131959774, 0.4675619327937209, 0.4409492273730684, 0.4625950453765023, 0.45088300220750555, 0.4697694383124847, 0.47633063527103264, 0.46437331371106205, 0.4589771891096394, 0.4666421388275693, 0.49080206033848417, 0.4577507971547707, 0.4682364483688987, 0.4666421388275693, 0.4635148393426539]\n",
        "class_3_bow_disc = [0.46204316899681136, 0.45977434388030414, 0.4649865096884964, 0.46915624233505027, 0.47387785136129507, 0.4675619327937209, 0.46958547951925433, 0.46425067451557517, 0.46921756193279374, 0.4698920775079716, 0.4698307579102281, 0.4603262202599951, 0.4682364483688987, 0.4711797890605838, 0.4700147167034584, 0.4405813097866078, 0.460448859455482, 0.4722222222222222]\n",
        "class_4_bow_disc = [0.45437821927888156, 0.45867059112092223, 0.47007603630120187, 0.4636987981358842, 0.4601422614667648, 0.4503311258278146, 0.4673779740004906, 0.4613073338238901, 0.4688496443463331, 0.4630242825607064, 0.4708731910718666, 0.4541942604856512, 0.4649865096884964, 0.4805616875153299, 0.4648025508952661, 0.4715477066470444, 0.4732646553838607, 0.4575055187637969]\n",
        "class_5_bow_disc = [0.4624724061810154, 0.46829776796664213, 0.47651459406426294, 0.47498160412067697, 0.4636374785381408, 0.48853323522197695, 0.47430708854549913, 0.4590998283051263, 0.4651704684817268, 0.47418444935001225, 0.4718543046357616, 0.4586092715231788, 0.4685430463576159, 0.48350502820701496, 0.47498160412067697, 0.47921265636497423, 0.47559480009811134, 0.4611846946284032]\n",
        "\n",
        "classes_perc_bow_disc = class_1_bow_disc+class_2_bow_disc+class_2_bow_disc+class_4_bow_disc+class_5_bow_disc"
      ]
    },
    {
      "cell_type": "code",
      "execution_count": 31,
      "metadata": {
        "colab": {
          "base_uri": "https://localhost:8080/"
        },
        "id": "fqmtQSECXzGx",
        "outputId": "4e473ba9-bf5d-4a5d-fb78-dd39fb1430b4"
      },
      "outputs": [
        {
          "name": "stdout",
          "output_type": "stream",
          "text": [
            "promedio:            0.4662\n",
            "desviacion estandar: 0.0092\n"
          ]
        }
      ],
      "source": [
        "print(\"promedio:           \" ,round(sum(classes_perc_bow_disc)/len(classes_perc_bow_disc),4))\n",
        "print(\"desviacion estandar:\" ,round(pstdev(classes_perc_bow_disc),4))"
      ]
    },
    {
      "cell_type": "code",
      "execution_count": 32,
      "metadata": {
        "colab": {
          "base_uri": "https://localhost:8080/",
          "height": 732
        },
        "id": "aIpL-lRhXCTj",
        "outputId": "5f81bdb8-c288-48f7-d4b1-981f79b2f06a"
      },
      "outputs": [
        {
          "data": {
            "image/png": "[encoded data removed]",
            "text/plain": [
              "<Figure size 864x864 with 1 Axes>"
            ]
          },
          "metadata": {
            "needs_background": "light"
          },
          "output_type": "display_data"
        }
      ],
      "source": [
        "discrete_classes = [0, 1, 2, 3, 4, 5, 6, 7, 8, 9, 10, 11, 12, 13, 14, 15, 16, 17, 18, 19, 20]\n",
        "plt_confusion_matrix(saved_for_plot_emb[0], vectors_develop_df, develop_class_disc_bow, saved_for_plot_emb[1], f\"BOW_classes_{saved_for_plot_emb[2]}_{saved_for_plot_emb[3]}\", classes=discrete_classes)"
      ]
    },
    {
      "cell_type": "markdown",
      "metadata": {
        "id": "cY5oogwn73mL"
      },
      "source": [
        "# Embeddings\n"
      ]
    },
    {
      "cell_type": "markdown",
      "metadata": {
        "id": "s8qEBGB_ZASg"
      },
      "source": [
        "##Primera aproximacion con embeddings"
      ]
    },
    {
      "cell_type": "markdown",
      "metadata": {
        "id": "GkdBToQjXLQV"
      },
      "source": [
        "Tomando como base el trabajo de Nazareno ........"
      ]
    },
    {
      "cell_type": "code",
      "execution_count": 33,
      "metadata": {
        "id": "XOFG4PPi77O2"
      },
      "outputs": [],
      "source": [
        "from gensim.models import KeyedVectors\n",
        "\n",
        "f = f\"drive/MyDrive/Mineria/fasttext_spanish_twitter_100d.vec\"\n",
        "wordvectors = KeyedVectors.load_word2vec_format(f)"
      ]
    },
    {
      "cell_type": "code",
      "execution_count": 34,
      "metadata": {
        "id": "DMtJsE1y7_IG"
      },
      "outputs": [],
      "source": [
        "import re\n",
        "punctuation = '!\"$%&\\'()*+,-./:;<=>?[\\\\]^_`{|}~•@'\n",
        "\n",
        "def filter_token(token):\n",
        "    \"\"\"\n",
        "    Funcion para filtrar los tokens que no son interesantes. No usa las stopwords.\n",
        "    \"\"\"\n",
        "    return token.is_punct or token.like_url or token.is_space or token.text[0]=='@'\n",
        "\n",
        "def convert_listwords(list_words):\n",
        "    \"\"\"\n",
        "    Funcion para pasar de una lista de palabras (ya procesadas preferentemente)\n",
        "    a texto\n",
        "    \"\"\"\n",
        "    text = \"\"\n",
        "    for word in list_words:\n",
        "        text = text + \" \" + word\n",
        "    text = re.sub('['+ punctuation + ']+', ' ', text)\n",
        "    text = re.sub('([0-9]+)', '', text)             \n",
        "    return text\n",
        "\n",
        "def clean_tweets(corpus=training_df):\n",
        "    \"\"\"\n",
        "    Funcion para filtrar las palabras de los tweets luego de procesarlas con \n",
        "    #######Spacy y con pysentimento.\n",
        "    Devuelve un diccionario que le asignan un unico ID a cada tweet.\n",
        "    \"\"\"\n",
        "    data = {}\n",
        "    wv_data = {}\n",
        "    for position, b in corpus.iterrows():\n",
        "        tweet = b['full_text']\n",
        "        if (isinstance(b['full_text'], float)): continue\n",
        "        doc = nlp(tweet.strip())\n",
        "        list_words = []\n",
        "        vector_value = np.array([0 for i in range(100)], dtype=np.float64)\n",
        "        for token in doc:\n",
        "            if filter_token(token): continue\n",
        "            list_words.append(token.text.lower())\n",
        "            if not (token.text.lower() in wordvectors.vocab): continue\n",
        "            vector_value += np.array(wordvectors.word_vec(token.text.lower()), dtype=np.float64)\n",
        "        \n",
        "        data[position] = {\"tweet\": convert_listwords(list_words), \"wv_vector\": vector_value}\n",
        "\n",
        "    return data "
      ]
    },
    {
      "cell_type": "markdown",
      "metadata": {
        "id": "9QrpSX10uHFf"
      },
      "source": [
        "--------------------------------\n",
        "PONER EN EL README ALGUN WARNING DE QUE LOS PICKLE OCUPAN MUCHA MEMORIA (3 GB SI GUARDAS LOS 90 + EL TRAINING)"
      ]
    },
    {
      "cell_type": "markdown",
      "metadata": {
        "id": "K-pFh7r4Ymos"
      },
      "source": [
        "Se puede directamente cargar si ya tenias hecho!\n",
        "\n",
        "La primera ejecucion va a saltar la exception y guardar el archivo en drive,\n",
        "en las proximas se va a cargar desde drive.\n",
        "\n",
        "- Importante: si se cambian cosas en la data, habria que borrar el archivo de drive."
      ]
    },
    {
      "cell_type": "code",
      "execution_count": 35,
      "metadata": {
        "id": "vgRPDSpGuLg4"
      },
      "outputs": [],
      "source": [
        "def get_vectors_matrix(dataframe, title=\"data_tweets_emb\"):\n",
        "  try:\n",
        "    with open(f\"{drive_path}{title}.pkl\", 'rb') as f:\n",
        "        data = pickle.load(f)\n",
        "  except Exception as e:\n",
        "    data = clean_tweets(dataframe)\n",
        "    data_file = open(f\"{drive_path}{title}.pkl\", \"wb\")\n",
        "    pickle.dump(data, data_file)\n",
        "  finally:\n",
        "    wv_vectors = [data[i]['wv_vector'] for i in data]\n",
        "    wv_X = np.asarray(wv_vectors)\n",
        "  return wv_X"
      ]
    },
    {
      "cell_type": "code",
      "execution_count": 36,
      "metadata": {
        "id": "rlikucjLweNq"
      },
      "outputs": [],
      "source": [
        "wv_X = get_vectors_matrix(training_df, \"data_tweets_emb\")"
      ]
    },
    {
      "cell_type": "markdown",
      "metadata": {
        "id": "_SkjXJvNb3ik"
      },
      "source": [
        "Asi se ve un vector usando embeddings"
      ]
    },
    {
      "cell_type": "code",
      "execution_count": 37,
      "metadata": {
        "colab": {
          "base_uri": "https://localhost:8080/"
        },
        "id": "3ijhkmrMb1Mp",
        "outputId": "77a1990f-fade-4402-e8c8-3389f1ce82c7"
      },
      "outputs": [
        {
          "data": {
            "text/plain": [
              "array([[-1.68846703,  0.18453314,  4.70874299, ...,  1.78688998,\n",
              "         4.84529296,  0.697263  ],\n",
              "       [ 0.47083601, -2.87857801,  4.39552601, ...,  1.96682702,\n",
              "         3.07951697, -0.6027816 ],\n",
              "       [ 3.41616199, -0.284175  ,  8.17240346, ...,  4.4070626 ,\n",
              "         3.62385218, -2.69215727],\n",
              "       ...,\n",
              "       [ 0.43866353, -1.99208505, 14.11377303, ...,  3.4843958 ,\n",
              "         7.55583   ,  0.6112683 ],\n",
              "       [ 2.22613762, -7.56618027, 13.26332524, ..., -4.65255404,\n",
              "         9.60682909,  4.13116055],\n",
              "       [ 0.75810003, -1.02716   ,  2.16582998, ...,  1.02337102,\n",
              "         0.61978899,  0.115899  ]])"
            ]
          },
          "execution_count": 37,
          "metadata": {},
          "output_type": "execute_result"
        }
      ],
      "source": [
        "wv_X"
      ]
    },
    {
      "cell_type": "code",
      "execution_count": 38,
      "metadata": {
        "id": "VMUwA14hspvp"
      },
      "outputs": [],
      "source": [
        "# Ahora usamos este metodo en vez de:\n",
        "# training_class = training_df['class'].to_numpy()\n",
        "# para ver las clases de los tuits que si usamos, porque los tuits sin texto no los guardamos en data\n",
        "def get_tweets_class(dataframe):\n",
        "  tweets_class = []\n",
        "  for idx,data in dataframe.iterrows():\n",
        "      if (isinstance(data['full_text'], float)): continue\n",
        "      tweets_class.append(data[\"class\"])\n",
        "  return tweets_class"
      ]
    },
    {
      "cell_type": "code",
      "execution_count": 39,
      "metadata": {
        "id": "I8JovZVLLnuR"
      },
      "outputs": [],
      "source": [
        "training_class_clean = get_tweets_class(training_df)"
      ]
    },
    {
      "cell_type": "code",
      "execution_count": 40,
      "metadata": {
        "colab": {
          "base_uri": "https://localhost:8080/"
        },
        "id": "ooF7t529hUrz",
        "outputId": "28077e0b-0e6c-4fe9-d2ff-594837068457"
      },
      "outputs": [
        {
          "name": "stderr",
          "output_type": "stream",
          "text": [
            "/usr/local/lib/python3.7/dist-packages/sklearn/linear_model/_logistic.py:818: ConvergenceWarning: lbfgs failed to converge (status=1):\n",
            "STOP: TOTAL NO. of ITERATIONS REACHED LIMIT.\n",
            "\n",
            "Increase the number of iterations (max_iter) or scale the data as shown in:\n",
            "    https://scikit-learn.org/stable/modules/preprocessing.html\n",
            "Please also refer to the documentation for alternative solver options:\n",
            "    https://scikit-learn.org/stable/modules/linear_model.html#logistic-regression\n",
            "  extra_warning_msg=_LOGISTIC_SOLVER_CONVERGENCE_MSG,\n"
          ]
        }
      ],
      "source": [
        "logisticRegr = train_logistic_regression(wv_X, training_class_clean)"
      ]
    },
    {
      "cell_type": "code",
      "execution_count": 41,
      "metadata": {
        "id": "dRJgjyIntpab"
      },
      "outputs": [],
      "source": [
        "wv_X_dev = get_vectors_matrix(develop_df, \"data_embeddings/data_tweets_emb_develop\")\n",
        "develop_class_clean = get_tweets_class(develop_df)\n",
        "score_emb = logisticRegr.score(wv_X_dev, develop_class_clean)"
      ]
    },
    {
      "cell_type": "markdown",
      "metadata": {
        "id": "sL05GShscjJw"
      },
      "source": [
        "----------------------\n",
        "a lo mejor hace falta un delete (del) de los valores de aca arriba, pero hacerlo cuando termina la seccion"
      ]
    },
    {
      "cell_type": "code",
      "execution_count": 42,
      "metadata": {
        "colab": {
          "base_uri": "https://localhost:8080/",
          "height": 732
        },
        "id": "GWasVlmA1XnF",
        "outputId": "b634f32e-3cdf-4cee-e30d-df50fd19025c"
      },
      "outputs": [
        {
          "data": {
            "image/png": "[encoded data removed]",
            "text/plain": [
              "<Figure size 864x864 with 1 Axes>"
            ]
          },
          "metadata": {
            "needs_background": "light"
          },
          "output_type": "display_data"
        }
      ],
      "source": [
        "plt_confusion_matrix(logisticRegr, wv_X_dev, develop_class_clean, score_emb, \"1er_test_embeddings\")"
      ]
    },
    {
      "cell_type": "markdown",
      "metadata": {
        "id": "OBNIHDuZl-JJ"
      },
      "source": [
        "# Embeddings con clases\n"
      ]
    },
    {
      "cell_type": "markdown",
      "metadata": {
        "id": "_n0YGfpUZme2"
      },
      "source": [
        "Ahora vamos a tomar los vectores con embeddings, pero con las divisiones en subgrupos de las clases del 0 y el 1, para que no haya sezgo de la cantidad de elementos en las clases."
      ]
    },
    {
      "cell_type": "code",
      "execution_count": 43,
      "metadata": {
        "id": "CEfh5pxHnruc"
      },
      "outputs": [],
      "source": [
        "def get_LogisticRegr_subset_embeddings(idx_0, idx_1, training_0_df=training_0_df, training_1_df=training_1_df, training_extra_df=training_extra_df):\n",
        "  training_dataframe = join_dataframes(training_0_df, training_1_df, training_extra_df, idx_0, idx_1)\n",
        "\n",
        "  training_class = get_tweets_class(training_dataframe)\n",
        "\n",
        "  wv_X = get_vectors_matrix(training_dataframe, f\"data_embeddings/data_tweets_emb_{idx_0}_{idx_1}\")\n",
        "\n",
        "  logisticRegr = train_logistic_regression(wv_X, training_class)\n",
        "  return logisticRegr"
      ]
    },
    {
      "cell_type": "markdown",
      "metadata": {
        "id": "KZF2hawvZQo7"
      },
      "source": [
        "Otra vez, solo corremos el primer subgrupo de la clase de 1 respuesta, para ahorrar tiempo de ejecucion\n"
      ]
    },
    {
      "cell_type": "code",
      "execution_count": 44,
      "metadata": {
        "colab": {
          "base_uri": "https://localhost:8080/"
        },
        "id": "Xjuy72jql9k8",
        "outputId": "ffd14228-aabf-4c9f-9235-b58ec76fca13"
      },
      "outputs": [
        {
          "name": "stderr",
          "output_type": "stream",
          "text": [
            "/usr/local/lib/python3.7/dist-packages/sklearn/linear_model/_logistic.py:818: ConvergenceWarning: lbfgs failed to converge (status=1):\n",
            "STOP: TOTAL NO. of ITERATIONS REACHED LIMIT.\n",
            "\n",
            "Increase the number of iterations (max_iter) or scale the data as shown in:\n",
            "    https://scikit-learn.org/stable/modules/preprocessing.html\n",
            "Please also refer to the documentation for alternative solver options:\n",
            "    https://scikit-learn.org/stable/modules/linear_model.html#logistic-regression\n",
            "  extra_warning_msg=_LOGISTIC_SOLVER_CONVERGENCE_MSG,\n"
          ]
        }
      ],
      "source": [
        "scores = []\n",
        "idx_0_random = randint(1,18)\n",
        "idx_1 = 1\n",
        "\n",
        "for idx_0 in range(1,19):\n",
        "  logisticRegr = get_LogisticRegr_subset_embeddings(idx_0, idx_1)\n",
        "  score = logisticRegr.score(wv_X_dev, develop_class_clean)\n",
        "  scores.append(score)\n",
        "  if idx_0_random == idx_0:\n",
        "    saved_for_plot_emb = (logisticRegr, score, idx_0, idx_1)   "
      ]
    },
    {
      "cell_type": "markdown",
      "metadata": {
        "id": "asLqDgvjcl4F"
      },
      "source": [
        "----------------------\n",
        "a lo mejor hace falta un delete (del) de los valores de aca arriba, pero hacerlo cuando termina la seccion"
      ]
    },
    {
      "cell_type": "code",
      "execution_count": 45,
      "metadata": {
        "colab": {
          "base_uri": "https://localhost:8080/"
        },
        "id": "1x6ky16Soglj",
        "outputId": "096ef0b5-f203-4483-b95b-cceaa365e29e"
      },
      "outputs": [
        {
          "name": "stdout",
          "output_type": "stream",
          "text": [
            "[0.5139274010587346]\n"
          ]
        }
      ],
      "source": [
        "print(scores)"
      ]
    },
    {
      "cell_type": "code",
      "execution_count": 46,
      "metadata": {
        "id": "B_G_IWkCZfcY"
      },
      "outputs": [],
      "source": [
        "class_1_emb = [0.5139274010587346, 0.52268716914545, 0.5224981094025712, 0.5224350894882783, 0.5229392488026217, 0.5221830098311067, 0.5242626670027729, 0.5103352659440383, 0.5122888832871187, 0.5228132089740358, 0.524955886059995, 0.5223090496596925, 0.517393496344845, 0.5170153768590875, 0.5257751449458029, 0.5149987396017142, 0.5291152004033275, 0.5182757751449458]\n",
        "class_2_emb = [0.5122888832871187, 0.5185278548021175, 0.5138013612301487, 0.5080665490294933, 0.5182757751449458, 0.5153768590874717, 0.5035291152004033, 0.5123519032014117, 0.5100201663725737, 0.5201033526594404, 0.5239475674313083, 0.5238845475170154, 0.5170153768590875, 0.5297453995462567, 0.5233173682883792, 0.5170783967733804, 0.52268716914545, 0.51814973531636]\n",
        "class_3_emb = [0.5066170910007562, 0.5161330980589867, 0.5230652886312075, 0.508318628686665, 0.5151247794303, 0.5138643811444417, 0.5168263171162087, 0.49565162591378875, 0.5046004537433829, 0.5104613057726242, 0.5245147466599446, 0.52117469120242, 0.5110915049155533, 0.5248298462314092, 0.5251449458028737, 0.5211116712881271, 0.5209226115452483, 0.5202293924880262]\n",
        "class_4_emb = [0.5018905974287875, 0.5168263171162087, 0.50302495588606, 0.5183387950592387, 0.5148726997731283, 0.5116586841441896, 0.5172044366019662, 0.5016385177716158, 0.5151877993445929, 0.5228132089740358, 0.5257751449458029, 0.5230022687169146, 0.5141164608016133, 0.5175195361734308, 0.5168263171162087, 0.5063019914292917, 0.5237585076884296, 0.50907486765818]\n",
        "class_5_emb = [0.5154398790017646, 0.5235064280312579, 0.5184018149735317, 0.5146206201159567, 0.5230022687169146, 0.5088227880010083, 0.5281699016889337, 0.5057348122006554, 0.5221830098311067, 0.5252079657171667, 0.5259011847743887, 0.5288001008318629, 0.5284219813461054, 0.5266574237459037, 0.5187799344592892, 0.5299344592891354, 0.5267204436601967, 0.521930930173935]\n",
        "\n",
        "classes_perc_emb = class_1_emb+class_2_emb+class_3_emb+class_4_emb+class_5_emb"
      ]
    },
    {
      "cell_type": "code",
      "execution_count": 47,
      "metadata": {
        "colab": {
          "base_uri": "https://localhost:8080/"
        },
        "id": "b0JiFmQ_hXym",
        "outputId": "19339ec9-a539-45e8-e9d7-8fc10bdbd15a"
      },
      "outputs": [
        {
          "name": "stdout",
          "output_type": "stream",
          "text": [
            "promedio:            0.5178458392852143\n",
            "desviacion estandar: 0.0072723062303322785\n"
          ]
        }
      ],
      "source": [
        "from statistics import pstdev\n",
        "print(\"promedio:           \" ,sum(classes_perc_emb)/len(classes_perc_emb))\n",
        "print(\"desviacion estandar:\" ,pstdev(classes_perc_emb))"
      ]
    },
    {
      "cell_type": "code",
      "execution_count": 48,
      "metadata": {
        "colab": {
          "base_uri": "https://localhost:8080/",
          "height": 732
        },
        "id": "gzvln8YUnNcd",
        "outputId": "170735dc-bece-48ae-b7e5-245f1399fc5d"
      },
      "outputs": [
        {
          "data": {
            "image/png": "[encoded data removed]",
            "text/plain": [
              "<Figure size 864x864 with 1 Axes>"
            ]
          },
          "metadata": {
            "needs_background": "light"
          },
          "output_type": "display_data"
        }
      ],
      "source": [
        "plt_confusion_matrix(saved_for_plot_emb[0], wv_X_dev, develop_class_clean, saved_for_plot_emb[1], f\"embedding_classes_{saved_for_plot_emb[2]}_{saved_for_plot_emb[3]}\")"
      ]
    },
    {
      "cell_type": "markdown",
      "metadata": {
        "id": "aeYaebA0fzWw"
      },
      "source": [
        "# Embeddings Discreto\n"
      ]
    },
    {
      "cell_type": "markdown",
      "metadata": {
        "id": "OgROaOXlZ22I"
      },
      "source": [
        "Probamos embeddings con las clases de los naturales hasta el 20"
      ]
    },
    {
      "cell_type": "code",
      "execution_count": 49,
      "metadata": {
        "id": "_tWDdGQmxnv1"
      },
      "outputs": [],
      "source": [
        "def get_tweets_class_discrete_emb(dataframe):\n",
        "  tweets_class = []\n",
        "  for idx,data in dataframe.iterrows():\n",
        "      if (isinstance(data['full_text'], float)): continue\n",
        "      class_tw = 0\n",
        "      n_ans = data[\"ans\"]\n",
        "      if n_ans>=int(20):class_tw=20\n",
        "      else:class_tw = n_ans\n",
        "      tweets_class.append(class_tw)\n",
        "  return tweets_class"
      ]
    },
    {
      "cell_type": "code",
      "execution_count": 50,
      "metadata": {
        "id": "nsTXutpQCzLE"
      },
      "outputs": [],
      "source": [
        "def get_LogisticRegr_subset_embeddings_discrete(idx_0, idx_1, training_0_df=training_0_df, training_1_df=training_1_df, training_extra_df=training_extra_df):\n",
        "  training_dataframe = join_dataframes(training_0_df, training_1_df, training_extra_df, idx_0, idx_1)\n",
        "\n",
        "  training_class = get_tweets_class_discrete_emb(training_dataframe)\n",
        "\n",
        "  wv_X = get_vectors_matrix(training_dataframe, f\"data_embeddings/data_tweets_emb_discrete_{idx_0}_{idx_1}\")\n",
        "\n",
        "  logisticRegr = train_logistic_regression(wv_X, training_class)\n",
        "  return logisticRegr"
      ]
    },
    {
      "cell_type": "code",
      "execution_count": 51,
      "metadata": {
        "id": "uVgjdXvPlxzp"
      },
      "outputs": [],
      "source": [
        "develop_class_clean_discrete = get_tweets_class_discrete_emb(develop_df)\n"
      ]
    },
    {
      "cell_type": "markdown",
      "metadata": {
        "id": "gHEyy09vasxP"
      },
      "source": [
        "Nuevamente tomas el 1er subgrupo de la clase del 1 para ahorrar tiempo de ejecucion"
      ]
    },
    {
      "cell_type": "code",
      "execution_count": 52,
      "metadata": {
        "colab": {
          "base_uri": "https://localhost:8080/"
        },
        "id": "zccnoY7_go6p",
        "outputId": "88d25e6e-0ad1-49a7-9eb4-7e290b0d8d43"
      },
      "outputs": [
        {
          "name": "stderr",
          "output_type": "stream",
          "text": [
            "/usr/local/lib/python3.7/dist-packages/sklearn/linear_model/_logistic.py:818: ConvergenceWarning: lbfgs failed to converge (status=1):\n",
            "STOP: TOTAL NO. of ITERATIONS REACHED LIMIT.\n",
            "\n",
            "Increase the number of iterations (max_iter) or scale the data as shown in:\n",
            "    https://scikit-learn.org/stable/modules/preprocessing.html\n",
            "Please also refer to the documentation for alternative solver options:\n",
            "    https://scikit-learn.org/stable/modules/linear_model.html#logistic-regression\n",
            "  extra_warning_msg=_LOGISTIC_SOLVER_CONVERGENCE_MSG,\n"
          ]
        }
      ],
      "source": [
        "scores = []\n",
        "idx_0_random = randint(1,18)\n",
        "idx_1 = 1\n",
        "for idx_0 in range(1,19):\n",
        "  logisticRegr = get_LogisticRegr_subset_embeddings_discrete(idx_0, idx_1)\n",
        "  score = logisticRegr.score(wv_X_dev, develop_class_clean_discrete)\n",
        "  scores.append(score)\n",
        "  if idx_0_random == idx_0:\n",
        "    saved_for_plot_emb = (logisticRegr, score, idx_0, idx_1)"
      ]
    },
    {
      "cell_type": "markdown",
      "metadata": {
        "id": "kCTxkZ4acxp0"
      },
      "source": [
        "----------------------\n",
        "a lo mejor hace falta un delete (del) de los valores de aca arriba, pero hacerlo cuando termina la seccion"
      ]
    },
    {
      "cell_type": "code",
      "execution_count": 53,
      "metadata": {
        "colab": {
          "base_uri": "https://localhost:8080/"
        },
        "id": "-yP7DcYUCzFh",
        "outputId": "30a20ccd-80ee-44de-cabf-db073383b506"
      },
      "outputs": [
        {
          "name": "stdout",
          "output_type": "stream",
          "text": [
            "[0.5604991177211999]\n"
          ]
        }
      ],
      "source": [
        "print(scores)"
      ]
    },
    {
      "cell_type": "code",
      "execution_count": 54,
      "metadata": {
        "colab": {
          "base_uri": "https://localhost:8080/",
          "height": 732
        },
        "id": "5ofmuFj2CzAV",
        "outputId": "173af06d-cb7c-499f-e808-80339acbbaef"
      },
      "outputs": [
        {
          "data": {
            "image/png": "[encoded data removed]",
            "text/plain": [
              "<Figure size 864x864 with 1 Axes>"
            ]
          },
          "metadata": {
            "needs_background": "light"
          },
          "output_type": "display_data"
        }
      ],
      "source": [
        "discrete_classes = [0, 1, 2, 3, 4, 5, 6, 7, 8, 9, 10, 11, 12, 13, 14, 15, 16, 17, 18, 19, 20]\n",
        "plt_confusion_matrix(saved_for_plot_emb[0], wv_X_dev, develop_class_clean_discrete, saved_for_plot_emb[1], f\"embedding_classes_discrete_{saved_for_plot_emb[2]}_{saved_for_plot_emb[3]}\", classes=discrete_classes)"
      ]
    },
    {
      "cell_type": "code",
      "execution_count": 55,
      "metadata": {
        "id": "tFl7w5qLCy7C"
      },
      "outputs": [],
      "source": [
        "class_1_emb_dis = [0.560436097806907, 0.5583564406352407, 0.5688177464078649, 0.564154272750189, 0.561948575749937, 0.5666750693219057, 0.5564658432064532, 0.5531257877489286, 0.5606251575497857, 0.5731661204940761, 0.5662969498361482, 0.5613183766070078, 0.5651625913788757, 0.5654146710360474, 0.5536929669775649, 0.5604991177211999, 0.5714015628938744, 0.5691958658936224]\n",
        "class_2_emb_dis = [0.5497227123771111, 0.5493445928913536, 0.5790269725233174, 0.5497227123771111, 0.5550163851777161, 0.554323166120494, 0.5587345601209982, 0.5405218048903454, 0.5587975800352911, 0.5632719939500882, 0.549785732291404, 0.5518023695487774, 0.5557726241492311, 0.5607511973783715, 0.5560877237206957, 0.5622636753214015, 0.5669901688933703, 0.5561507436349886]\n",
        "class_3_emb_dis = [0.5562137635492815, 0.544492059490799, 0.5424124023191328, 0.5461935971767078, 0.5465717166624653, 0.5501638517771615, 0.554323166120494, 0.5316990168893371, 0.5485883539198386, 0.556591883035039, 0.5541971262919082, 0.5330854550037812, 0.5410259642046887, 0.5599949584068565, 0.5562137635492815, 0.5644063524073607, 0.5563398033778674, 0.5484623140912528]\n",
        "class_4_emb_dis = [0.5270355432316612, 0.5386942273758508, 0.5511721704058482, 0.5628308545500378, 0.5564028232921603, 0.5578522813208974, 0.5624527350642803, 0.5453743382908999, 0.5521804890345349, 0.5608142172926645, 0.561948575749937, 0.5341567935467608, 0.5593017393496345, 0.5608772372069574, 0.5584194605495336, 0.5535039072346861, 0.5589866397781699, 0.5530627678346357]\n",
        "class_5_emb_dis = [0.5480841946054953, 0.5579783211494832, 0.5424124023191328, 0.550604991177212, 0.5548273254348374, 0.5511091504915553, 0.5587975800352911, 0.5424754222334257, 0.5657927905218049, 0.5705192840937736, 0.567179228636249, 0.5562767834635745, 0.5561507436349886, 0.5644693723216536, 0.5586715402067053, 0.5593647592639274, 0.5693219057222082, 0.559616838921099]\n",
        "\n",
        "class_emb_dis = class_1_emb_dis+class_2_emb_dis+class_3_emb_dis+class_4_emb_dis+class_5_emb_dis"
      ]
    },
    {
      "cell_type": "code",
      "execution_count": 56,
      "metadata": {
        "colab": {
          "base_uri": "https://localhost:8080/"
        },
        "id": "Z1Dx09Q9Cy34",
        "outputId": "70af1ba0-325f-4fbf-aff6-c2927186ded9"
      },
      "outputs": [
        {
          "name": "stdout",
          "output_type": "stream",
          "text": [
            "promedio:            0.5559392768114724\n",
            "desviacion estandar: 0.009397503619810808\n"
          ]
        }
      ],
      "source": [
        "from statistics import pstdev\n",
        "print(\"promedio:           \" ,sum(class_emb_dis)/len(class_emb_dis))\n",
        "print(\"desviacion estandar:\" ,pstdev(class_emb_dis))"
      ]
    },
    {
      "cell_type": "markdown",
      "metadata": {
        "id": "wjb4lAS0BV59"
      },
      "source": [
        "# Boxplots"
      ]
    },
    {
      "cell_type": "markdown",
      "metadata": {
        "id": "4Qi7znEzbI44"
      },
      "source": [
        "Por ultimo, mostramos con un grafico Boxplot los promedios de los resultados."
      ]
    },
    {
      "cell_type": "code",
      "execution_count": 57,
      "metadata": {
        "id": "Vg0pmyyE_-xU"
      },
      "outputs": [],
      "source": [
        "methods_list_bow = [\"BOW\"]*90\n",
        "percentage_bow = list(zip(classes_perc_bow, methods_list_bow))\n",
        "\n",
        "methods_list_bow_disc = [\"BOW discrete\"]*90\n",
        "percentage_bow_disc = list(zip(classes_perc_bow_disc, methods_list_bow_disc))\n",
        "\n",
        "methods_list_emb = [\"Embeddigns\"]*90\n",
        "percentage_emb = list(zip(classes_perc_emb, methods_list_emb))\n",
        "\n",
        "methods_list_emb_disc = [\"Embeddigns discrete\"]*90\n",
        "percentage_emb_disc = list(zip(class_emb_dis, methods_list_emb_disc))\n",
        "\n",
        "data_plotbox = percentage_bow + percentage_bow_disc + percentage_emb + percentage_emb_disc\n",
        "plotbox_dataframe = pd.DataFrame(data_plotbox,columns=[\"Percentage\",\"Method\"])"
      ]
    },
    {
      "cell_type": "code",
      "execution_count": 58,
      "metadata": {
        "colab": {
          "base_uri": "https://localhost:8080/",
          "height": 731
        },
        "id": "CcgZstZcBShW",
        "outputId": "f38ba5da-e23b-4af2-b480-451a0f3ce71d"
      },
      "outputs": [
        {
          "data": {
            "text/plain": [
              "<matplotlib.axes._subplots.AxesSubplot at 0x7f70f9470cd0>"
            ]
          },
          "execution_count": 58,
          "metadata": {},
          "output_type": "execute_result"
        },
        {
          "data": {
            "image/png": "[encoded data removed]",
            "text/plain": [
              "<Figure size 864x864 with 1 Axes>"
            ]
          },
          "metadata": {
            "needs_background": "light"
          },
          "output_type": "display_data"
        }
      ],
      "source": [
        "# https://stackoverflow.com/questions/31594549/how-to-change-the-figure-size-of-a-seaborn-axes-or-figure-level-plot\n",
        "fig, ax = plt.subplots(figsize=(12,12))\n",
        "\n",
        "#https://seaborn.pydata.org/generated/seaborn.boxplot.html#seaborn.boxplot\n",
        "\n",
        "sns.set_theme(style=\"ticks\", palette=\"pastel\")\n",
        "sns.boxplot(ax=ax, x=\"Method\", y=\"Percentage\",data=plotbox_dataframe,\n",
        "            whis=[0, 100], width=.6, palette=\"vlag\")"
      ]
    },
    {
      "cell_type": "markdown",
      "metadata": {
        "id": "WnLsT8pstFjN"
      },
      "source": [
        "#Ejemplos ELIMINAR"
      ]
    },
    {
      "cell_type": "code",
      "execution_count": 59,
      "metadata": {
        "id": "W3zHr6BQApJq"
      },
      "outputs": [],
      "source": [
        "#predecir para valores individuales:\n",
        "#3, 22 y 86 tuits poco argumentativos (0)\n",
        "#6, 43 tuits con alguna estructura o argumento (1 o 2-3)\n",
        "#1636 y 6054 171 9054 15444 15706 tuits con la actualizacion de la informacion(4+)\n",
        "# examples_idx = [3, 22, 86, 6, 43, 171, 1634, 6052, 9054, 15444, 15706]\n",
        "# examples_text = []\n",
        "# examples_real_tag = []\n",
        "# examples_predicted_tag = []\n",
        "# for i in examples_idx:\n",
        "#   examples_text.append(develop_array[i])\n",
        "#   examples_real_tag.append(develop_class[i])\n",
        "#   examples_predicted_tag.append(logisticRegr.predict(vectors_develop_df[i:i+1])[0])"
      ]
    },
    {
      "cell_type": "code",
      "execution_count": 60,
      "metadata": {
        "id": "lubQi0k17mU5"
      },
      "outputs": [],
      "source": [
        "# i=0\n",
        "# for tag in examples_real_tag:\n",
        "#   if tag == \"20+\":\n",
        "#     print(i)\n",
        "#     print(f'Ejemplo {i}:\\n Tag real:     {examples_real_tag[i]}\\n Tag obtenida: {examples_predicted_tag[i]}\\n Texto del tuit: \\n{examples_text[i]}')\n",
        "#   i+=1"
      ]
    },
    {
      "cell_type": "code",
      "execution_count": 61,
      "metadata": {
        "id": "HD5RV3WJBEAo"
      },
      "outputs": [],
      "source": [
        "# print(examples_text)\n",
        "# print(examples_real_tag)\n",
        "# print(examples_predicted_tag)\n",
        "\n",
        "# j = 0\n",
        "# for j in range(len(examples_real_tag)):\n",
        "#   print(\"+\"*80)\n",
        "#   print(f'Ejemplo {j}:\\n Tag real:     {examples_real_tag[j]}\\n Tag obtenida: {examples_predicted_tag[j]}\\n Texto del tuit: \\n{examples_text[j]}')"
      ]
    }
  ],
  "metadata": {
    "colab": {
      "collapsed_sections": [
        "OBNIHDuZl-JJ",
        "WnLsT8pstFjN"
      ],
      "name": "Entrenamiento.ipynb",
      "provenance": []
    },
    "kernelspec": {
      "display_name": "Python 3",
      "name": "python3"
    },
    "language_info": {
      "name": "python"
    }
  },
  "nbformat": 4,
  "nbformat_minor": 0
}
