{
  "nbformat": 4,
  "nbformat_minor": 0,
  "metadata": {
    "colab": {
      "name": "Entrenamiento.ipynb",
      "provenance": [],
      "collapsed_sections": []
    },
    "kernelspec": {
      "name": "python3",
      "display_name": "Python 3"
    },
    "language_info": {
      "name": "python"
    }
  },
  "cells": [
    {
      "cell_type": "code",
      "metadata": {
        "id": "tQPqUqpWxNgq"
      },
      "source": [
        "import pandas as pd\n",
        "#None para visualizar todas las columnas, False para la version recortada\n",
        "pd.set_option(\"display.max_columns\", False)"
      ],
      "execution_count": 100,
      "outputs": []
    },
    {
      "cell_type": "code",
      "metadata": {
        "colab": {
          "base_uri": "https://localhost:8080/"
        },
        "id": "IH8jWsqqvIlz",
        "outputId": "cdba7fe1-102f-457e-e3f7-6ab5ee2ab7c9"
      },
      "source": [
        "from google.colab import drive\n",
        "drive.mount('/content/drive')"
      ],
      "execution_count": 101,
      "outputs": [
        {
          "output_type": "stream",
          "name": "stdout",
          "text": [
            "Drive already mounted at /content/drive; to attempt to forcibly remount, call drive.mount(\"/content/drive\", force_remount=True).\n"
          ]
        }
      ]
    },
    {
      "cell_type": "code",
      "metadata": {
        "id": "3uYU1tiPvfmb"
      },
      "source": [
        "drive_path = '/content/drive/MyDrive/Mineria/'\n",
        "training_filename = \"training_df.csv\"\n",
        "training_df = pd.read_csv(drive_path+training_filename,\n",
        "                          dtype={\"in_reply_to_status_id\":str, \"in_reply_to_user_id\":str, })"
      ],
      "execution_count": 102,
      "outputs": []
    },
    {
      "cell_type": "code",
      "metadata": {
        "colab": {
          "base_uri": "https://localhost:8080/"
        },
        "id": "-Ae2BWZOxZy6",
        "outputId": "5af0b9ee-3fee-4dac-e8ca-009d083c69fc"
      },
      "source": [
        "print(training_df)"
      ],
      "execution_count": 103,
      "outputs": [
        {
          "output_type": "stream",
          "name": "stdout",
          "text": [
            "        ans                      created_at  ...              user_id class\n",
            "0         0  Thu Jan 14 12:20:31 +0000 2021  ...           2798939859     0\n",
            "1         0  Sat Jan 02 15:40:26 +0000 2021  ...            611616139     0\n",
            "2         0  Wed Feb 24 22:46:20 +0000 2021  ...            425539845     0\n",
            "3         0  Fri Feb 19 21:44:40 +0000 2021  ...            950509741     0\n",
            "4         0  Sun Jan 31 12:37:21 +0000 2021  ...             94587196     0\n",
            "...     ...                             ...  ...                  ...   ...\n",
            "130461    0  Sun Jan 31 01:49:58 +0000 2021  ...  1165057182267781120     0\n",
            "130462    1  Wed Feb 03 00:16:18 +0000 2021  ...  1343995343009099776     1\n",
            "130463    1  Sun Mar 07 12:16:17 +0000 2021  ...            336674598     1\n",
            "130464    0  Tue Mar 16 00:47:00 +0000 2021  ...  1311701826341871616     0\n",
            "130465    0  Sat Mar 20 11:01:01 +0000 2021  ...            574985459     0\n",
            "\n",
            "[130466 rows x 8 columns]\n"
          ]
        }
      ]
    },
    {
      "cell_type": "code",
      "metadata": {
        "id": "aH6zbBQbVHkO"
      },
      "source": [
        "#reducimos la cantidad de tuits porque la ram no soporta para el entrenamiento\n",
        "training_array = training_df['full_text'].to_numpy()[:25000]\n",
        "training_class = training_df['class'].to_numpy()[:25000]"
      ],
      "execution_count": 104,
      "outputs": []
    },
    {
      "cell_type": "code",
      "metadata": {
        "colab": {
          "base_uri": "https://localhost:8080/"
        },
        "id": "JMd8OgURXDb_",
        "outputId": "2608a968-6c56-4cf2-e845-29375a956826"
      },
      "source": [
        "from sklearn.feature_extraction.text import CountVectorizer\n",
        "\n",
        "coun_vect = CountVectorizer(min_df=2)#,max_df=0.75)\n",
        "count_matrix = coun_vect.fit_transform(training_array)\n",
        "count_array = count_matrix.toarray()\n",
        "\n",
        "vectors_training_df = pd.DataFrame(data=count_array,columns = coun_vect.get_feature_names())\n",
        "print(vectors_training_df)\n",
        "\n",
        "#con develop:\n",
        "#con min_df=2: [16308 rows x 11628 columns]\n",
        "#sin: [16308 rows x 28478 columns]"
      ],
      "execution_count": 105,
      "outputs": [
        {
          "output_type": "stream",
          "name": "stdout",
          "text": [
            "       00  000  01  02  023  ...  únicas  único  únicos  úrsula  útil\n",
            "0       0    0   0   0    0  ...       0      0       0       0     0\n",
            "1       0    0   0   0    0  ...       0      0       0       0     0\n",
            "2       0    0   0   0    0  ...       0      0       0       0     0\n",
            "3       0    0   0   0    0  ...       0      0       0       0     0\n",
            "4       0    0   0   0    0  ...       0      0       0       0     0\n",
            "...    ..  ...  ..  ..  ...  ...     ...    ...     ...     ...   ...\n",
            "24995   0    0   0   0    0  ...       0      0       0       0     0\n",
            "24996   0    0   0   0    0  ...       0      0       0       0     0\n",
            "24997   0    0   0   0    0  ...       0      0       0       0     0\n",
            "24998   0    0   0   0    0  ...       0      0       0       0     0\n",
            "24999   0    0   0   0    0  ...       0      0       0       0     0\n",
            "\n",
            "[25000 rows x 15319 columns]\n"
          ]
        }
      ]
    },
    {
      "cell_type": "code",
      "metadata": {
        "id": "O18GrCMTkmIc"
      },
      "source": [
        "#https://github.com/mGalarnyk/Python_Tutorials/blob/master/Sklearn/Logistic_Regression/LogisticRegression_toy_digits_Codementor.ipynb\n",
        "#https://towardsdatascience.com/logistic-regression-using-python-sklearn-numpy-mnist-handwriting-recognition-matplotlib-a6b31e2b166a\n",
        "from sklearn.linear_model import LogisticRegression\n",
        "logisticRegr = LogisticRegression()#max_iter=200)\n",
        "\n",
        "# Entrenamos con los vectores y sus tags\n",
        "logisticRegr.fit(vectors_training_df, training_class)\n"
      ],
      "execution_count": null,
      "outputs": []
    },
    {
      "cell_type": "code",
      "metadata": {
        "id": "Hcp92-P_D55T"
      },
      "source": [
        "develop_filename = \"develop_df.csv\"\n",
        "develop_df = pd.read_csv(drive_path+develop_filename, dtype={\"in_reply_to_status_id\":str, \"in_reply_to_user_id\":str, })\n",
        "develop_array = develop_df['full_text'].to_numpy()\n",
        "\n",
        "#Hay que usar el mismo vocabulario, para que tengan las mismas columnas\n",
        "coun_vect2 = CountVectorizer(vocabulary=coun_vect.vocabulary_)\n",
        "count_matrix2 = coun_vect2.fit_transform(develop_array)\n",
        "count_array2 = count_matrix2.toarray()\n",
        "vectors_develop_df = pd.DataFrame(data=count_array2,columns = coun_vect2.get_feature_names())\n",
        "\n",
        "develop_class = develop_df['class'].to_numpy()\n"
      ],
      "execution_count": 109,
      "outputs": []
    },
    {
      "cell_type": "code",
      "metadata": {
        "id": "W3zHr6BQApJq"
      },
      "source": [
        "#predecir para valores individuales:\n",
        "#3, 22 y 86 tuits poco argumentativos (0)\n",
        "#6, 43 tuits con alguna estructura o argumento (1 o 2-3)\n",
        "#1636 y 6054 171 9054 15444 15706 tuits con la actualizacion de la informacion(4+)\n",
        "examples_idx = [3, 22, 86, 6, 43, 171, 1634, 6052, 9054, 15444, 15706]\n",
        "examples_text = []\n",
        "examples_real_tag = []\n",
        "examples_predicted_tag = []\n",
        "for i in examples_idx:\n",
        "  examples_text.append(develop_array[i])\n",
        "  examples_real_tag.append(develop_class[i])\n",
        "  examples_predicted_tag.append(logisticRegr.predict(vectors_develop_df[i:i+1])[0])"
      ],
      "execution_count": 111,
      "outputs": []
    },
    {
      "cell_type": "code",
      "metadata": {
        "colab": {
          "base_uri": "https://localhost:8080/"
        },
        "id": "HD5RV3WJBEAo",
        "outputId": "80e4cc2f-c642-4083-bcc9-e75f057e72aa"
      },
      "source": [
        "print(examples_text)\n",
        "print(examples_real_tag)\n",
        "print(examples_predicted_tag)\n",
        "\n",
        "j = 0\n",
        "for j in range(len(examples_real_tag)):\n",
        "  print(\"+\"*80)\n",
        "  print(f'Ejemplo {j}:\\n Tag real:     {examples_real_tag[j]}\\n Tag obtenida: {examples_predicted_tag[j]}\\n Texto del tuit: \\n{examples_text[j]}')"
      ],
      "execution_count": 121,
      "outputs": [
        {
          "output_type": "stream",
          "name": "stdout",
          "text": [
            "['Que asco.', 'Un sujeto nefasto.', 'Claro!!!! No es tan difícil de entender!!!', 'No. No es así. Hay más datos publicados de algunas vacunas que de otras. Hay datos mejor medidos para algunas vacunas que para otras. Hay evaluaciones más rigurosas sobre algunas vacunas que sobre otras. No da todo igual. Decir que es todo igual es negar la realidad.', 'No seas exagerado, eso es signo de desesperación\\nLos turnos se estaban dando para esta semana\\nAl final, para cuando conseguiste?', 'Situación #COVID19 en Argentina\\n\\nConfirmados: 9.471 | Total:\\xa01.905.524 casos          \\n\\nFallecidos: 166 | Total:\\xa047.601            \\n\\nOcupación camas UTI: 3.607\\n\\nPorcentaje ocupación total camas UTI adulto:\\n \\n- Nación: 55,3% \\n- AMBA: 62%\\n\\nReporte completo: https://t.co/HUbXwfQmu3 https://t.co/BmJVM2M3Rj', 'Situación #COVID19 en Argentina\\n\\nConfirmados: 8.704 | Total: \\xa01.730.921    \\n\\nFallecidos: 160 | Total: \\xa044.654   \\n\\nOcupación camas UTI: \\xa03.606\\n\\nPorcentaje ocupación total camas UTI adulto:\\n \\n- Nación: 54,6%\\n- AMBA: 58,8%\\n\\nReporte completo: https://t.co/nqkIHzLWZF https://t.co/wK2EWgqiaC', 'Situación #COVID19 en Argentina\\n\\nConfirmados: 8.304| Total: 2.218.425 casos          \\n\\nFallecidos: 195 | Total: 54.231\\n\\nOcupación camas UTI: 3.485\\n\\nPorcentaje ocupación total camas UTI adulto: \\n \\n- Nación: 55,1%\\n- AMBA: 59,8%\\n\\nReporte completo🔻\\nhttps://t.co/be4GiHOwpj', 'Situación #COVID19 en Argentina\\n\\nConfirmados: 3.259 | Total:\\xa02.029.057 casos          \\n\\nFallecidos: 91 | Total:\\xa050.327 \\n\\nOcupación camas UTI: 3.538\\n\\nPorcentaje ocupación total camas UTI adulto:\\n \\n- Nación: 54,2%\\n- AMBA: 58,8%\\n\\nReporte completo🔻\\nhttps://t.co/be4GiHOwpj https://t.co/5Q6fi9rm6X', 'Situación #COVID19 en Argentina\\n\\nConfirmados: 12.112 | Total:\\xa01.831.681 casos          \\n\\nFallecidos: 150 | Total:\\xa046.216         \\n\\nOcupación camas UTI: 3.605 \\n\\nPorcentaje ocupación total camas UTI adulto:\\n \\n- Nación:\\xa055%\\n- AMBA: 61,1%\\n\\nReporte completo:\\nhttps://t.co/tReX96IYvd https://t.co/91taisQigw', 'Situación #COVID19 en Argentina\\n\\nConfirmados: 7.886 | Total:\\xa02.054.681 casos          \\n\\nFallecidos: 143 | Total:\\xa051.000\\n\\nOcupación camas UTI: 3.608\\n\\nPorcentaje ocupación total camas UTI adulto:\\n \\n- Nación: 54,2%\\n- AMBA: 59,3%\\n\\nReporte completo🔻\\nhttps://t.co/be4GiHOwpj https://t.co/HifhwBl1cV']\n",
            "['0', '0', '0', '2-3', '1', '4-6', '7-10', '4-6', '7-10', '7-10', '20+']\n",
            "['0', '0', '0', '1', '0', '7-10', '4-6', '4-6', '4-6', '4-6', '4-6']\n",
            "++++++++++++++++++++++++++++++++++++++++++++++++++++++++++++++++++++++++++++++++\n",
            "Ejemplo 0:\n",
            " Tag real:     0\n",
            " Tag obtenida: 0\n",
            " Texto del tuit: \n",
            "Que asco.\n",
            "++++++++++++++++++++++++++++++++++++++++++++++++++++++++++++++++++++++++++++++++\n",
            "Ejemplo 1:\n",
            " Tag real:     0\n",
            " Tag obtenida: 0\n",
            " Texto del tuit: \n",
            "Un sujeto nefasto.\n",
            "++++++++++++++++++++++++++++++++++++++++++++++++++++++++++++++++++++++++++++++++\n",
            "Ejemplo 2:\n",
            " Tag real:     0\n",
            " Tag obtenida: 0\n",
            " Texto del tuit: \n",
            "Claro!!!! No es tan difícil de entender!!!\n",
            "++++++++++++++++++++++++++++++++++++++++++++++++++++++++++++++++++++++++++++++++\n",
            "Ejemplo 3:\n",
            " Tag real:     2-3\n",
            " Tag obtenida: 1\n",
            " Texto del tuit: \n",
            "No. No es así. Hay más datos publicados de algunas vacunas que de otras. Hay datos mejor medidos para algunas vacunas que para otras. Hay evaluaciones más rigurosas sobre algunas vacunas que sobre otras. No da todo igual. Decir que es todo igual es negar la realidad.\n",
            "++++++++++++++++++++++++++++++++++++++++++++++++++++++++++++++++++++++++++++++++\n",
            "Ejemplo 4:\n",
            " Tag real:     1\n",
            " Tag obtenida: 0\n",
            " Texto del tuit: \n",
            "No seas exagerado, eso es signo de desesperación\n",
            "Los turnos se estaban dando para esta semana\n",
            "Al final, para cuando conseguiste?\n",
            "++++++++++++++++++++++++++++++++++++++++++++++++++++++++++++++++++++++++++++++++\n",
            "Ejemplo 5:\n",
            " Tag real:     4-6\n",
            " Tag obtenida: 7-10\n",
            " Texto del tuit: \n",
            "Situación #COVID19 en Argentina\n",
            "\n",
            "Confirmados: 9.471 | Total: 1.905.524 casos          \n",
            "\n",
            "Fallecidos: 166 | Total: 47.601            \n",
            "\n",
            "Ocupación camas UTI: 3.607\n",
            "\n",
            "Porcentaje ocupación total camas UTI adulto:\n",
            " \n",
            "- Nación: 55,3% \n",
            "- AMBA: 62%\n",
            "\n",
            "Reporte completo: https://t.co/HUbXwfQmu3 https://t.co/BmJVM2M3Rj\n",
            "++++++++++++++++++++++++++++++++++++++++++++++++++++++++++++++++++++++++++++++++\n",
            "Ejemplo 6:\n",
            " Tag real:     7-10\n",
            " Tag obtenida: 4-6\n",
            " Texto del tuit: \n",
            "Situación #COVID19 en Argentina\n",
            "\n",
            "Confirmados: 8.704 | Total:  1.730.921    \n",
            "\n",
            "Fallecidos: 160 | Total:  44.654   \n",
            "\n",
            "Ocupación camas UTI:  3.606\n",
            "\n",
            "Porcentaje ocupación total camas UTI adulto:\n",
            " \n",
            "- Nación: 54,6%\n",
            "- AMBA: 58,8%\n",
            "\n",
            "Reporte completo: https://t.co/nqkIHzLWZF https://t.co/wK2EWgqiaC\n",
            "++++++++++++++++++++++++++++++++++++++++++++++++++++++++++++++++++++++++++++++++\n",
            "Ejemplo 7:\n",
            " Tag real:     4-6\n",
            " Tag obtenida: 4-6\n",
            " Texto del tuit: \n",
            "Situación #COVID19 en Argentina\n",
            "\n",
            "Confirmados: 8.304| Total: 2.218.425 casos          \n",
            "\n",
            "Fallecidos: 195 | Total: 54.231\n",
            "\n",
            "Ocupación camas UTI: 3.485\n",
            "\n",
            "Porcentaje ocupación total camas UTI adulto: \n",
            " \n",
            "- Nación: 55,1%\n",
            "- AMBA: 59,8%\n",
            "\n",
            "Reporte completo🔻\n",
            "https://t.co/be4GiHOwpj\n",
            "++++++++++++++++++++++++++++++++++++++++++++++++++++++++++++++++++++++++++++++++\n",
            "Ejemplo 8:\n",
            " Tag real:     7-10\n",
            " Tag obtenida: 4-6\n",
            " Texto del tuit: \n",
            "Situación #COVID19 en Argentina\n",
            "\n",
            "Confirmados: 3.259 | Total: 2.029.057 casos          \n",
            "\n",
            "Fallecidos: 91 | Total: 50.327 \n",
            "\n",
            "Ocupación camas UTI: 3.538\n",
            "\n",
            "Porcentaje ocupación total camas UTI adulto:\n",
            " \n",
            "- Nación: 54,2%\n",
            "- AMBA: 58,8%\n",
            "\n",
            "Reporte completo🔻\n",
            "https://t.co/be4GiHOwpj https://t.co/5Q6fi9rm6X\n",
            "++++++++++++++++++++++++++++++++++++++++++++++++++++++++++++++++++++++++++++++++\n",
            "Ejemplo 9:\n",
            " Tag real:     7-10\n",
            " Tag obtenida: 4-6\n",
            " Texto del tuit: \n",
            "Situación #COVID19 en Argentina\n",
            "\n",
            "Confirmados: 12.112 | Total: 1.831.681 casos          \n",
            "\n",
            "Fallecidos: 150 | Total: 46.216         \n",
            "\n",
            "Ocupación camas UTI: 3.605 \n",
            "\n",
            "Porcentaje ocupación total camas UTI adulto:\n",
            " \n",
            "- Nación: 55%\n",
            "- AMBA: 61,1%\n",
            "\n",
            "Reporte completo:\n",
            "https://t.co/tReX96IYvd https://t.co/91taisQigw\n",
            "++++++++++++++++++++++++++++++++++++++++++++++++++++++++++++++++++++++++++++++++\n",
            "Ejemplo 10:\n",
            " Tag real:     20+\n",
            " Tag obtenida: 4-6\n",
            " Texto del tuit: \n",
            "Situación #COVID19 en Argentina\n",
            "\n",
            "Confirmados: 7.886 | Total: 2.054.681 casos          \n",
            "\n",
            "Fallecidos: 143 | Total: 51.000\n",
            "\n",
            "Ocupación camas UTI: 3.608\n",
            "\n",
            "Porcentaje ocupación total camas UTI adulto:\n",
            " \n",
            "- Nación: 54,2%\n",
            "- AMBA: 59,3%\n",
            "\n",
            "Reporte completo🔻\n",
            "https://t.co/be4GiHOwpj https://t.co/HifhwBl1cV\n"
          ]
        }
      ]
    },
    {
      "cell_type": "code",
      "metadata": {
        "colab": {
          "base_uri": "https://localhost:8080/"
        },
        "id": "hD1uvavRDMFp",
        "outputId": "478625c3-2f31-4ef5-e72f-e3e07b1a9ada"
      },
      "source": [
        "# Conseguir el porcentaje de acierto del modelo\n",
        "score = logisticRegr.score(vectors_develop_df, develop_class)\n",
        "print(score)"
      ],
      "execution_count": 113,
      "outputs": [
        {
          "output_type": "stream",
          "name": "stdout",
          "text": [
            "0.6847559480009812\n"
          ]
        }
      ]
    },
    {
      "cell_type": "code",
      "metadata": {
        "id": "nOJT2ONB63Co"
      },
      "source": [
        "import numpy as np \n",
        "import seaborn as sns\n",
        "from sklearn import metrics\n",
        "import matplotlib.pyplot as plt"
      ],
      "execution_count": 114,
      "outputs": []
    },
    {
      "cell_type": "code",
      "metadata": {
        "id": "I1Eqty5X0ub-"
      },
      "source": [
        "predictions = logisticRegr.predict(vectors_develop_df)\n",
        "cm = metrics.confusion_matrix(develop_class, predictions)"
      ],
      "execution_count": 115,
      "outputs": []
    },
    {
      "cell_type": "code",
      "metadata": {
        "colab": {
          "base_uri": "https://localhost:8080/",
          "height": 732
        },
        "id": "artVqCiU1Gbq",
        "outputId": "727cfacd-d666-48db-958c-930e69581587"
      },
      "source": [
        "# Visualizar que label toco y cual deberia haber tocado \n",
        "clases = [\"0\",\"1\",\"2-3\",\"4-6\",\"7-10\",\"11-20\",\"20+\"]\n",
        "plt.figure(figsize=(12,12))\n",
        "sns.heatmap(cm, annot=True, fmt=\"d\", linewidths=.5, square = True, robust=True, cmap = 'YlGnBu', cbar=False);\n",
        "plt.ylabel('Actual label');\n",
        "plt.xlabel('Predicted label');\n",
        "plt.yticks(plt.yticks()[0], labels=clases, rotation=0)\n",
        "plt.xticks(plt.xticks()[0], labels=clases)\n",
        "all_sample_title = 'Accuracy Score: {0}'.format(score)\n",
        "plt.title(all_sample_title, size = 15);\n",
        "plt.savefig(drive_path+'1er_test_BOW.png')\n",
        "#plt.show();"
      ],
      "execution_count": 116,
      "outputs": [
        {
          "output_type": "display_data",
          "data": {
            "image/png": "[encoded data removed]",
            "text/plain": [
              "<Figure size 864x864 with 1 Axes>"
            ]
          },
          "metadata": {
            "needs_background": "light"
          }
        }
      ]
    }
  ]
}